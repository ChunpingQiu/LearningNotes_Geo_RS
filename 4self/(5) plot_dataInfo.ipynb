{
 "cells": [
  {
   "cell_type": "code",
   "execution_count": 1,
   "metadata": {},
   "outputs": [],
   "source": [
    "%matplotlib inline"
   ]
  },
  {
   "cell_type": "markdown",
   "metadata": {},
   "source": [
    "# Cread mat file data"
   ]
  },
  {
   "cell_type": "code",
   "execution_count": 7,
   "metadata": {},
   "outputs": [
    {
     "name": "stdout",
     "output_type": "stream",
     "text": [
      "[[  836   111    16   150    21    13     0    42     0    10     0     1\n",
      "      0     0     0     0     6]\n",
      " [   76  5181   221    41   332    39    14   130     0    22     1     3\n",
      "      0     0     0     5     8]\n",
      " [    6   215  7179    16    90   621    62   163    29     5     3     1\n",
      "      1    14     0     3     6]\n",
      " [  102    69    17  2354   231    24     1    87     4    24     8     7\n",
      "      2     5     0    10     5]\n",
      " [   21   257    94   234  2903   416     0   148    13    12    13     5\n",
      "      0     3     0    13     2]\n",
      " [    8    40   475    24   217  7140     1    70   609     8    19    28\n",
      "      7    32     1    18    14]\n",
      " [    1    15   130     3     0     5   833    12     5     4     6     0\n",
      "      0     0     1     0     1]\n",
      " [    8    52    76    25    88    42    12  9974    13   203     7    10\n",
      "      1    24    34    38    18]\n",
      " [    0     2    21     1    14   479     0    30  4022    10    68    68\n",
      "     11   141     0    10     5]\n",
      " [    9    10    14     9    21    20     0   675    10  2277     5     9\n",
      "      1    23     1     9    27]\n",
      " [    0     0     0     0     1     3     0     0    13     1 10866    64\n",
      "     59    15     0     1     4]\n",
      " [    0     0     2     1     3     9     0     4    57     0   195  1685\n",
      "     36   296     1     6     3]\n",
      " [    0     0     1     0     0     0     0     0     0     0   154    57\n",
      "   1748   582     1    84     2]\n",
      " [    1     0     1     0     0     1     0    18    52     9    30    63\n",
      "     24 10627     1    10    23]\n",
      " [    0     0     0     0     0     0     1    36     0     4     1     0\n",
      "      3     1   583    10     0]\n",
      " [    0     0     0     0     1     3     1    20    11     7     3     8\n",
      "     11   206     2  1834     2]\n",
      " [    1     0     6     1     5     2     0     7     1    11     4     0\n",
      "      1    20     0     0 12198]]\n"
     ]
    }
   ],
   "source": [
    "from scipy.io import loadmat\n",
    "import os\n",
    "\n",
    "file=os.path.join(r'E:\\0Learn\\0LearningNotes_python_geo_rs\\test', \"confusion_matrices.mat\")\n",
    "x = loadmat(file)\n",
    "\n",
    "randomFusion_M = x['randomFusion_M']\n",
    "print(randomFusion_M)\n",
    "\n",
    "# one-liner to read a single variable\n",
    "#lon = loadmat('test.mat')['lon']"
   ]
  },
  {
   "cell_type": "markdown",
   "metadata": {},
   "source": [
    "\n",
    "# Confusion matrix"
   ]
  },
  {
   "cell_type": "code",
   "execution_count": 2,
   "metadata": {},
   "outputs": [
    {
     "name": "stdout",
     "output_type": "stream",
     "text": [
      "Automatically created module for IPython interactive environment\n",
      "Confusion matrix, without normalization\n",
      "[[13  0  0]\n",
      " [ 0 10  6]\n",
      " [ 0  0  9]]\n",
      "Normalized confusion matrix\n",
      "[[1.   0.   0.  ]\n",
      " [0.   0.62 0.38]\n",
      " [0.   0.   1.  ]]\n"
     ]
    },
    {
     "data": {
      "image/png": "[encoded data removed]",
      "text/plain": [
       "<Figure size 432x288 with 2 Axes>"
      ]
     },
     "metadata": {
      "needs_background": "light"
     },
     "output_type": "display_data"
    },
    {
     "data": {
      "image/png": "[encoded data removed]",
      "text/plain": [
       "<Figure size 432x288 with 2 Axes>"
      ]
     },
     "metadata": {
      "needs_background": "light"
     },
     "output_type": "display_data"
    }
   ],
   "source": [
    "print(__doc__)\n",
    "\n",
    "import numpy as np\n",
    "import matplotlib.pyplot as plt\n",
    "\n",
    "from sklearn import svm, datasets\n",
    "from sklearn.model_selection import train_test_split\n",
    "from sklearn.metrics import plot_confusion_matrix\n",
    "\n",
    "# import some data to play with\n",
    "iris = datasets.load_iris()\n",
    "X = iris.data\n",
    "y = iris.target\n",
    "class_names = iris.target_names\n",
    "\n",
    "# Split the data into a training set and a test set\n",
    "X_train, X_test, y_train, y_test = train_test_split(X, y, random_state=0)\n",
    "\n",
    "# Run classifier, using a model that is too regularized (C too low) to see\n",
    "# the impact on the results\n",
    "classifier = svm.SVC(kernel='linear', C=0.01).fit(X_train, y_train)\n",
    "\n",
    "np.set_printoptions(precision=2)\n",
    "\n",
    "# Plot non-normalized confusion matrix\n",
    "titles_options = [(\"Confusion matrix, without normalization\", None),\n",
    "                  (\"Normalized confusion matrix\", 'true')]\n",
    "for title, normalize in titles_options:\n",
    "    disp = plot_confusion_matrix(classifier, X_test, y_test,\n",
    "                                 display_labels=class_names,\n",
    "                                 cmap=plt.cm.Blues,\n",
    "                                 normalize=normalize)\n",
    "    disp.ax_.set_title(title)\n",
    "\n",
    "    print(title)\n",
    "    print(disp.confusion_matrix)\n",
    "\n",
    "plt.show()"
   ]
  },
  {
   "cell_type": "code",
   "execution_count": null,
   "metadata": {},
   "outputs": [],
   "source": []
  }
 ],
 "metadata": {
  "kernelspec": {
   "display_name": "Python 3",
   "language": "python",
   "name": "python3"
  },
  "language_info": {
   "codemirror_mode": {
    "name": "ipython",
    "version": 3
   },
   "file_extension": ".py",
   "mimetype": "text/x-python",
   "name": "python",
   "nbconvert_exporter": "python",
   "pygments_lexer": "ipython3",
   "version": "3.7.1"
  }
 },
 "nbformat": 4,
 "nbformat_minor": 1
}
