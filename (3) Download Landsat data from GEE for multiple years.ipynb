{
 "cells": [
  {
   "cell_type": "code",
   "execution_count": 7,
   "metadata": {},
   "outputs": [],
   "source": [
    "# Installs geemap package\n",
    "import subprocess\n",
    "\n",
    "try:\n",
    "        import geemap\n",
    "except ImportError:\n",
    "        print('geemap package not installed. Installing ...')\n",
    "        subprocess.check_call([\"python\", '-m', 'pip', 'install', 'geemap'])\n",
    "\n",
    "# Authenticates and initializes Earth Engine\n",
    "import ee\n",
    "\n",
    "try:\n",
    "        ee.Initialize()\n",
    "except Exception as e:\n",
    "        ee.Authenticate()\n",
    "        ee.Initialize()"
   ]
  },
  {
   "cell_type": "markdown",
   "metadata": {},
   "source": [
    "# playaround gpd: read a kml file and convert to gee polygon"
   ]
  },
  {
   "cell_type": "code",
   "execution_count": 81,
   "metadata": {},
   "outputs": [
    {
     "name": "stdout",
     "output_type": "stream",
     "text": [
      "\n",
      "ee.Geometry({\n",
      "  \"type\": \"Invocation\",\n",
      "  \"arguments\": {\n",
      "    \"coordinates\": [\n",
      "      [\n",
      "        11.3602677630673,\n",
      "        48.02751971264227\n",
      "      ],\n",
      "      [\n",
      "        11.80137465433197,\n",
      "        48.03234154343271\n",
      "      ],\n",
      "      [\n",
      "        11.79876828408382,\n",
      "        48.23050987210912\n",
      "      ],\n",
      "      [\n",
      "        11.35590852476603,\n",
      "        48.23019011206229\n",
      "      ],\n",
      "      [\n",
      "        11.3602677630673,\n",
      "        48.02751971264227\n",
      "      ]\n",
      "    ],\n",
      "    \"geodesic\": false\n",
      "  },\n",
      "  \"functionName\": \"GeometryConstructors.Polygon\"\n",
      "})\n"
     ]
    }
   ],
   "source": [
    "import geopandas as gpd\n",
    "import fiona \n",
    "\n",
    "# Enable fiona driver\n",
    "gpd.io.file.fiona.drvsupport.supported_drivers['KML'] = 'rw'\n",
    "\n",
    "polygon = gpd.read_file(r'.\\files\\munich.kml', driver='KML')\n",
    "# print(polygon)\n",
    "geom = polygon.iloc[0:1, :]\n",
    "# print(geom)\n",
    "\n",
    "'''convert to gee feature'''\n",
    "jsonDict = eval(geom.to_json())\n",
    "geojsonDict = jsonDict['features'][0]\n",
    "\n",
    "cor=geojsonDict['geometry']['coordinates']\n",
    "print()\n",
    "         \n",
    "aoi = ee.Geometry.Polygon([cor[0][0][0:2], cor[0][1][0:2], cor[0][2][0:2], cor[0][3][0:2],cor[0][4][0:2]], None, False)\n",
    "print(aoi)\n",
    "            "
   ]
  },
  {
   "cell_type": "markdown",
   "metadata": {},
   "source": [
    "# playaround gee"
   ]
  },
  {
   "cell_type": "code",
   "execution_count": null,
   "metadata": {
    "scrolled": true
   },
   "outputs": [
    {
     "data": {
      "text/html": [
       "<p>To authorize access needed by Earth Engine, open the following\n",
       "        URL in a web browser and follow the instructions:</p>\n",
       "        <p><a href=https://accounts.google.com/o/oauth2/auth?client_id=517222506229-vsmmajv00ul0bs7p89v5m89qs8eb9359.apps.googleusercontent.com&scope=https%3A%2F%2Fwww.googleapis.com%2Fauth%2Fearthengine+https%3A%2F%2Fwww.googleapis.com%2Fauth%2Fdevstorage.full_control&redirect_uri=urn%3Aietf%3Awg%3Aoauth%3A2.0%3Aoob&response_type=code&code_challenge=F7AW8K1jglgexsacKQXPNRlE1nFMeizEfALARn-rs-Y&code_challenge_method=S256>https://accounts.google.com/o/oauth2/auth?client_id=517222506229-vsmmajv00ul0bs7p89v5m89qs8eb9359.apps.googleusercontent.com&scope=https%3A%2F%2Fwww.googleapis.com%2Fauth%2Fearthengine+https%3A%2F%2Fwww.googleapis.com%2Fauth%2Fdevstorage.full_control&redirect_uri=urn%3Aietf%3Awg%3Aoauth%3A2.0%3Aoob&response_type=code&code_challenge=F7AW8K1jglgexsacKQXPNRlE1nFMeizEfALARn-rs-Y&code_challenge_method=S256</a></p>\n",
       "        <p>The authorization workflow will generate a code, which you\n",
       "        should paste in the box below</p>\n",
       "        "
      ],
      "text/plain": [
       "<IPython.core.display.HTML object>"
      ]
     },
     "metadata": {},
     "output_type": "display_data"
    }
   ],
   "source": [
    "Map = geemap.Map()\n",
    "Map"
   ]
  },
  {
   "cell_type": "code",
   "execution_count": 79,
   "metadata": {},
   "outputs": [],
   "source": [
    "# Display the polygons by adding them to the map.\n",
    "Map.centerObject(aoi,10)\n",
    "Map.addLayer(aoi, {'color': 'FF0000'})"
   ]
  },
  {
   "cell_type": "code",
   "execution_count": 62,
   "metadata": {},
   "outputs": [
    {
     "name": "stdout",
     "output_type": "stream",
     "text": [
      "Generating URL...\n",
      "Downloading GIF image from https://earthengine.googleapis.com/v1alpha/projects/earthengine-legacy/videoThumbnails/b58ff0f7d6151cf1bcb893f71968bdd6-08596e546626a169c3a7434dedecdfe2:getPixels\n",
      "Please wait ...\n",
      "The GIF image has been saved to: C:\\Users\\User\\Downloads\\landsat_ts_jag.gif\n",
      "Adding animated text to GIF ...\n",
      "Adding GIF to the map ...\n"
     ]
    }
   ],
   "source": [
    "Map.add_landsat_ts_gif(label='', start_year=1985, bands=['Red', 'Green','Blue'], frames_per_second=5)"
   ]
  },
  {
   "cell_type": "code",
   "execution_count": 80,
   "metadata": {
    "scrolled": true
   },
   "outputs": [
    {
     "name": "stdout",
     "output_type": "stream",
     "text": [
      "Generating URL...\n",
      "Downloading GIF image from https://earthengine.googleapis.com/v1alpha/projects/earthengine-legacy/videoThumbnails/8113efaa4af26e4c3c538ae9f65db021-6ef21105a695e368a6a69339bddc5a69:getPixels\n",
      "Please wait ...\n",
      "The GIF image has been saved to: C:\\Users\\User\\Downloads\\landsat_ts_sbu.gif\n",
      "Adding animated text to GIF ...\n",
      "Adding GIF to the map ...\n"
     ]
    }
   ],
   "source": [
    "#To create a Landsat timelapse animation and add it to the Map:  \n",
    "Map.add_landsat_ts_gif(label='roi', roi=aoi, start_year=1985, bands=['Red', 'Green','Blue'], frames_per_second=1)\n",
    "#"
   ]
  },
  {
   "cell_type": "code",
   "execution_count": 76,
   "metadata": {},
   "outputs": [
    {
     "name": "stdout",
     "output_type": "stream",
     "text": [
      "Count:  36\n"
     ]
    }
   ],
   "source": [
    "imgC=geemap.landsat_timeseries(roi=aoi, start_year=1984, end_year=2019, start_date='06-10', end_date='09-20')\n",
    "#print(imgC.getInfo())\n",
    "count = imgC.size().getInfo()\n",
    "print(\"Count: \", count)\n",
    "vis = {'bands': ['Red', 'Green','Blue']}\n",
    "Map.addLayer(imgC,vis)"
   ]
  },
  {
   "cell_type": "code",
   "execution_count": null,
   "metadata": {},
   "outputs": [],
   "source": [
    "geemap.ee_export_image_collection(ee_object, output, scale, crs, region, file_per_band)"
   ]
  },
  {
   "cell_type": "markdown",
   "metadata": {},
   "source": [
    "# "
   ]
  },
  {
   "cell_type": "code",
   "execution_count": null,
   "metadata": {},
   "outputs": [],
   "source": [
    "import os\n",
    "\n",
    "# aoi = ee.Geometry.Polygon(\n",
    "#   [[[-110.8, 44.7],\n",
    "#     [-110.8, 44.6],\n",
    "#     [-110.6, 44.6],\n",
    "#     [-110.6, 44.7]]], None, False)\n",
    "\n",
    "loc = ee.Geometry.Point(-99.2222, 46.7816)\n",
    "collection = ee.ImageCollection('USDA/NAIP/DOQQ') \\\n",
    "    .filterBounds(loc) \\\n",
    "    .filterDate('2008-01-01', '2020-01-01') \\\n",
    "    .filter(ee.Filter.listContains(\"system:band_names\", \"N\"))\n",
    "\n",
    "out_dir = os.path.join(os.path.expanduser('~'), 'Downloads')\n",
    "\n",
    "print(collection.aggregate_array('system:index').getInfo())\n",
    "\n",
    "geemap.ee_export_image_collection(collection, out_dir=out_dir)\n",
    "\n",
    "#https://github.com/giswqs/geemap/blob/master/examples/notebooks/11_export_image.ipynb"
   ]
  }
 ],
 "metadata": {
  "kernelspec": {
   "display_name": "Python [conda env:geePy3]",
   "language": "python",
   "name": "conda-env-geePy3-py"
  },
  "language_info": {
   "codemirror_mode": {
    "name": "ipython",
    "version": 3
   },
   "file_extension": ".py",
   "mimetype": "text/x-python",
   "name": "python",
   "nbconvert_exporter": "python",
   "pygments_lexer": "ipython3",
   "version": "3.8.3"
  }
 },
 "nbformat": 4,
 "nbformat_minor": 4
}
