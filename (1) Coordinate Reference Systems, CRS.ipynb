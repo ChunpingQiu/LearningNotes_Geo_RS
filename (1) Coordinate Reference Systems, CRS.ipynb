{
 "cells": [
  {
   "cell_type": "markdown",
   "metadata": {},
   "source": [
    "# Bascis"
   ]
  },
  {
   "cell_type": "markdown",
   "metadata": {},
   "source": [
    "- CRS information **connects** data to the Earth's surface using a mathematical model.\n",
    "- **threee Components**: A model of the shape of the earth (datum, e.g., WGS84); A mathematical transformation of the angular measurements on a round earth to a flat surface (e.g., UTM projections); other Parameters.\n",
    "- In general CRS can be divided into projected coordinate reference systems (also called Cartesian or rectangular coordinate reference systems) and geographic coordinate reference systems"
   ]
  },
  {
   "cell_type": "markdown",
   "metadata": {},
   "source": [
    "# Common systems for describing CRSs include EPSG, PROJ, and OGC WKT."
   ]
  },
  {
   "cell_type": "markdown",
   "metadata": {},
   "source": [
    "## A PROJ4 string includes the following information:"
   ]
  },
  {
   "cell_type": "markdown",
   "metadata": {},
   "source": [
    "- proj=: the projection of the data\n",
    "- zone=: the zone of the data (this is specific to the UTM projection)\n",
    "- datum=: the datum use\n",
    "- units=: the units for the coordinates of the data\n",
    "- ellps=: the ellipsoid (how the earth's roundness is calculated) for the data\n",
    "\n",
    "examples:\n",
    "\n",
    "+proj=longlat +datum=WGS84 +no_defs +ellps=WGS84 +towgs84=0,0,0\n",
    "\n",
    "+proj=utm +zone=11 +datum=WGS84 +units=m +no_defs +ellps=WGS84 +towgs84=0,0,0"
   ]
  },
  {
   "cell_type": "markdown",
   "metadata": {},
   "source": [
    "## EPSG"
   ]
  },
  {
   "cell_type": "markdown",
   "metadata": {},
   "source": [
    "The EPSG Geodetic Parameter Dataset is a dataset of coordinate reference systems and coordinate transformations.\n",
    "\n",
    "It is represented by a 4- to 5-digit code (e.g. EPSG:4326 = WGS84). The codes can be global, regional, national or local in application."
   ]
  },
  {
   "cell_type": "markdown",
   "metadata": {},
   "source": [
    "# Related Code, in particular for convertion and EPSG calculation"
   ]
  },
  {
   "cell_type": "markdown",
   "metadata": {},
   "source": [
    "We can use gdal to get the CRS info. of a file, e.g., by:\n",
    " ```\n",
    "$ gdalsrsinfo EPSG:4326\n",
    "\n",
    "PROJ.4 : +proj=longlat +datum=WGS84 +no_defs\n",
    "$ gdalsrsinfo -o proj4 *.tif\n",
    " ```"
   ]
  },
  {
   "cell_type": "markdown",
   "metadata": {},
   "source": [
    "Transformation from one projection to another is common and easy. For instance, you have a point in WGS84 Latitude/Longitude  (i.e., \"EPSG:4326\"), you can convert it to **any projections**, e.g.,UTM Zones (North): \"EPSG:32633\", and UTM Zones (South): \"EPSG:32733\", in theory. The question is:\n",
    "\n",
    "- **which one** do you need? \n",
    "- Further, how do you know which one do you need?"
   ]
  },
  {
   "cell_type": "markdown",
   "metadata": {},
   "source": [
    "## 1 with geopandas"
   ]
  },
  {
   "cell_type": "code",
   "execution_count": 39,
   "metadata": {},
   "outputs": [
    {
     "data": {
      "text/plain": [
       "2163"
      ]
     },
     "execution_count": 39,
     "metadata": {},
     "output_type": "execute_result"
    }
   ],
   "source": [
    "import pyproj\n",
    "\n",
    "#note that any recent version of geopandas requires at least pyproj>=2.0.0.\n",
    "\n",
    "crs = pyproj.CRS(\"+proj=laea +lat_0=45 +lon_0=-100 +x_0=0 +y_0=0 +a=6370997 +b=6370997 +units=m +no_defs\")\n",
    "crs.to_epsg()"
   ]
  },
  {
   "cell_type": "code",
   "execution_count": 40,
   "metadata": {},
   "outputs": [
    {
     "name": "stdout",
     "output_type": "stream",
     "text": [
      "{'geometry': [<shapely.geometry.point.Point object at 0x00000256A57A6FD0>, <shapely.geometry.point.Point object at 0x00000256A57A6358>]}\n",
      "                   geometry\n",
      "0  GEOMETRYCOLLECTION EMPTY\n",
      "1           POINT (-100 45) EPSG:4326\n",
      "Zone is 14\n",
      "                                     geometry\n",
      "0                    GEOMETRYCOLLECTION EMPTY\n",
      "1  POINT (421184.697083289 4983436.768349296)\n",
      "32614\n"
     ]
    },
    {
     "data": {
      "text/html": [
       "<div>\n",
       "<style scoped>\n",
       "    .dataframe tbody tr th:only-of-type {\n",
       "        vertical-align: middle;\n",
       "    }\n",
       "\n",
       "    .dataframe tbody tr th {\n",
       "        vertical-align: top;\n",
       "    }\n",
       "\n",
       "    .dataframe thead th {\n",
       "        text-align: right;\n",
       "    }\n",
       "</style>\n",
       "<table border=\"1\" class=\"dataframe\">\n",
       "  <thead>\n",
       "    <tr style=\"text-align: right;\">\n",
       "      <th></th>\n",
       "      <th>geometry</th>\n",
       "    </tr>\n",
       "  </thead>\n",
       "  <tbody>\n",
       "    <tr>\n",
       "      <th>0</th>\n",
       "      <td>GEOMETRYCOLLECTION EMPTY</td>\n",
       "    </tr>\n",
       "    <tr>\n",
       "      <th>1</th>\n",
       "      <td>POINT (421184.697083289 4983436.768349296)</td>\n",
       "    </tr>\n",
       "  </tbody>\n",
       "</table>\n",
       "</div>"
      ],
      "text/plain": [
       "                                     geometry\n",
       "0                    GEOMETRYCOLLECTION EMPTY\n",
       "1  POINT (421184.697083289 4983436.768349296)"
      ]
     },
     "execution_count": 40,
     "metadata": {},
     "output_type": "execute_result"
    }
   ],
   "source": [
    "import geopandas as gpd\n",
    "from shapely.geometry import Point\n",
    "\n",
    "lat = 45\n",
    "lon = -100\n",
    "d = {'geometry': [Point(), Point(lon,lat)]}\n",
    "print(d)\n",
    "gdf = gpd.GeoDataFrame(d, crs=\"EPSG:4326\")#WGS84 Latitude/Longitude: \"EPSG:4326\"\n",
    "print(gdf, gdf.crs)\n",
    "\n",
    "utm_zone = int(math.floor((lon + 180) / 6) + 1 )\n",
    "print(\"Zone is\",utm_zone)\n",
    "\n",
    "# add this new zone value to the following string format\n",
    "# so you see it is important to know these different (parallel) descriptions of CRS\n",
    "utm_crs = '+proj=utm +zone={} +ellps=WGS84 +datum=WGS84 +units=m +no_defs'.format(utm_zone)              \n",
    "# use geopandas to trigger a reprojection of the geodataframe\n",
    "reproj_gdf = gdf.to_crs(utm_crs)\n",
    "print(reproj_gdf)\n",
    "\n",
    "crs = pyproj.CRS(utm_crs)\n",
    "print(crs.to_epsg())\n",
    "\n",
    "#with epsg code, we can again convert the point\n",
    "gdf.to_crs(crs.to_epsg())"
   ]
  },
  {
   "cell_type": "markdown",
   "metadata": {},
   "source": [
    "## 2 with math in python to find the EPSG code of a UTM projection"
   ]
  },
  {
   "cell_type": "code",
   "execution_count": 41,
   "metadata": {},
   "outputs": [
    {
     "name": "stdout",
     "output_type": "stream",
     "text": [
      "Zone is 14.0\n",
      "EPSG is 32614\n"
     ]
    }
   ],
   "source": [
    "#with math in python\n",
    "import numpy as np\n",
    "\n",
    "lat = 45\n",
    "lon = -100\n",
    "\n",
    "utmZone = np.round((183+lon)/6,0) \n",
    "print(\"Zone is\",utmZone)\n",
    "EPSG = 32700-np.round((45+lat)/90,0)*100+np.round((183+lon)/6,0)\n",
    "EPSG = int(EPSG)\n",
    "print(\"EPSG is\",EPSG)"
   ]
  },
  {
   "cell_type": "code",
   "execution_count": 42,
   "metadata": {},
   "outputs": [
    {
     "data": {
      "text/plain": [
       "'32614'"
      ]
     },
     "execution_count": 42,
     "metadata": {},
     "output_type": "execute_result"
    }
   ],
   "source": [
    "import math\n",
    "\n",
    "lat = 45\n",
    "lon = -100\n",
    "\n",
    "utmZone = str((math.floor((lon + 180) / 6) % 60) + 1)\n",
    "if len(utmZone) == 1:\n",
    "    utmZone = '0' + utmZone\n",
    "if lat >= 0:\n",
    "    epsg_code = '326' + utmZone  # lat>0: N;\n",
    "else:\n",
    "    epsg_code = '327' + utmZone\n",
    "    \n",
    "epsg_code"
   ]
  },
  {
   "cell_type": "markdown",
   "metadata": {},
   "source": [
    "## 3 with math in gee"
   ]
  },
  {
   "cell_type": "code",
   "execution_count": 43,
   "metadata": {},
   "outputs": [
    {
     "name": "stdout",
     "output_type": "stream",
     "text": [
      "{'type': 'Point', 'coordinates': [-100, 45]}\n",
      "32614\n",
      "{'type': 'Feature', 'geometry': {'type': 'Point', 'coordinates': [-100, 45]}, 'properties': {'EPSG': 'EPSG:32614'}}\n",
      "{'geodesic': False, 'crs': {'type': 'name', 'properties': {'name': 'EPSG:32614'}}, 'type': 'Point', 'coordinates': [421184.6970832809, 4983436.768350039]}\n"
     ]
    }
   ],
   "source": [
    "# Installs geemap package\n",
    "import subprocess\n",
    "\n",
    "try:\n",
    "    import geemap\n",
    "except ImportError:\n",
    "    print('geemap package not installed. Installing ...')\n",
    "    subprocess.check_call([\"python\", '-m', 'pip', 'install', 'geemap'])\n",
    "\n",
    "# Checks whether this notebook is running on Google Colab\n",
    "try:\n",
    "    import google.colab\n",
    "    import geemap.eefolium as geemap\n",
    "except:\n",
    "    import geemap\n",
    "\n",
    "# Authenticates and initializes Earth Engine\n",
    "import ee\n",
    "\n",
    "try:\n",
    "    ee.Initialize()\n",
    "except Exception as e:\n",
    "    ee.Authenticate()\n",
    "    ee.Initialize()\n",
    "\n",
    "#create a Point in gee\n",
    "lat = 45\n",
    "lon = -100\n",
    "Point = ee.Geometry.Point([lon,lat])\n",
    "print(Point.getInfo())\n",
    "\n",
    "# Create a Feature from the Geometry.\n",
    "pointFeature = ee.Feature(Point)\n",
    "\n",
    "coords = Point.coordinates()\n",
    "\n",
    "lon = ee.Number(coords.get(0))\n",
    "lat = ee.Number(coords.get(1))\n",
    "epsg = ee.Number(32700).subtract(lat.add(45).divide(90).round().multiply(100)).add(lon.add(183).divide(6).round()).uint16()\n",
    "print(epsg.getInfo())\n",
    "\n",
    "#note that gee has its unique syntax\n",
    "pointFeature_ = pointFeature.set(\"EPSG\",ee.String(\"EPSG:\").cat(ee.String(str(epsg.getInfo()))))\n",
    "print(pointFeature_.getInfo())\n",
    "\n",
    "print(Point.transform(ee.String(\"EPSG:\").cat(ee.String(str(epsg.getInfo())))).getInfo())"
   ]
  },
  {
   "cell_type": "markdown",
   "metadata": {},
   "source": [
    "# Ref"
   ]
  },
  {
   "cell_type": "markdown",
   "metadata": {},
   "source": [
    "- [Video](https://www.youtube.com/embed/KUF_Ckv8HbE) highlighting how map projections can make continents seems proportionally larger or smaller than they actually are.\n",
    "- [Documentation for QGIS](https://docs.qgis.org/3.10/en/docs/user_manual/working_with_projections/working_with_projections.html)\n",
    "- [Docs of GeoPandas](https://geopandas.org/projections.html#what-is-the-best-format-to-store-the-crs-information)"
   ]
  },
  {
   "cell_type": "code",
   "execution_count": null,
   "metadata": {},
   "outputs": [],
   "source": []
  }
 ],
 "metadata": {
  "kernelspec": {
   "display_name": "Python 3",
   "language": "python",
   "name": "python3"
  },
  "language_info": {
   "codemirror_mode": {
    "name": "ipython",
    "version": 3
   },
   "file_extension": ".py",
   "mimetype": "text/x-python",
   "name": "python",
   "nbconvert_exporter": "python",
   "pygments_lexer": "ipython3",
   "version": "3.7.1"
  }
 },
 "nbformat": 4,
 "nbformat_minor": 2
}
