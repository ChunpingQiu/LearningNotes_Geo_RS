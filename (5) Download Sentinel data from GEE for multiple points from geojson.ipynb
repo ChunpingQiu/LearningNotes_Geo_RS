{
 "cells": [
  {
   "cell_type": "code",
   "execution_count": 3,
   "metadata": {},
   "outputs": [
    {
     "name": "stdout",
     "output_type": "stream",
     "text": [
      "C:\\Users\\User\\Anaconda3\\envs\\geePy3\\python.exe\n"
     ]
    }
   ],
   "source": [
    "import sys\n",
    "print(sys.executable)"
   ]
  },
  {
   "cell_type": "code",
   "execution_count": 4,
   "metadata": {
    "scrolled": true
   },
   "outputs": [],
   "source": [
    "import ee\n",
    "import geemap\n",
    "import os\n",
    "import geopandas as gpd\n",
    "import pandas as pd\n",
    "import shutil"
   ]
  },
  {
   "cell_type": "markdown",
   "metadata": {},
   "source": [
    "# Intermediate results can be shown on the map"
   ]
  },
  {
   "cell_type": "code",
   "execution_count": 5,
   "metadata": {},
   "outputs": [
    {
     "data": {
      "application/vnd.jupyter.widget-view+json": {
       "model_id": "58b2d90286c4473eabe7d59bfb75e748",
       "version_major": 2,
       "version_minor": 0
      },
      "text/plain": [
       "Map(center=[40, -100], controls=(WidgetControl(options=['position'], widget=HBox(children=(ToggleButton(value=…"
      ]
     },
     "metadata": {},
     "output_type": "display_data"
    }
   ],
   "source": [
    "Map = geemap.Map()\n",
    "Map"
   ]
  },
  {
   "cell_type": "markdown",
   "metadata": {},
   "source": [
    "# From a gee feature (point) to a Rectangle ROI (in UTM)"
   ]
  },
  {
   "cell_type": "code",
   "execution_count": 6,
   "metadata": {},
   "outputs": [],
   "source": [
    "def create_roi(feature):\n",
    "\tbuffer = feature.transform(ee.Projection(feature.get(\"EPSG\")), ee.ErrorMargin(1, \"meters\")).buffer(400)\n",
    "\t#// Get bounding boxx and simplify it to approximate a North aligned square ROI\n",
    "\treturn buffer.bounds().simplify(ee.ErrorMargin(1, \"meters\"))\n",
    "\n",
    "def set_utm_epsg(feature):\n",
    "\tcoords = feature.geometry().coordinates()\n",
    "\tlon = ee.Number(coords.get(0))\n",
    "\tlat = ee.Number(coords.get(1))\n",
    "\tepsg = ee.Number(32700).subtract(lat.add(45).divide(90).round().multiply(100)).add(lon.add(183).divide(6).round()).uint16()\n",
    "\t#print(epsg.getInfo())\n",
    "\treturn feature.set(\"EPSG\",ee.String(\"EPSG:\").cat(ee.String(str(epsg.getInfo()))))#ee.String(\"EPSG:\").cat\n",
    "\n",
    "def add_xy(img):\n",
    "\treturn img.addBands(ee.Image.pixelLonLat().rename([\"X\", \"Y\"]))"
   ]
  },
  {
   "cell_type": "markdown",
   "metadata": {},
   "source": [
    "- **.getInfo()** (e.g., in Line 12 of the above cell) is alway necessary, the same when we want to print sth, which is not the case when using GEE directly"
   ]
  },
  {
   "cell_type": "markdown",
   "metadata": {},
   "source": [
    "- get image patch for one gee feature (point)"
   ]
  },
  {
   "cell_type": "markdown",
   "metadata": {},
   "source": [
    "# From a gee feature to a good s1/2 patch"
   ]
  },
  {
   "cell_type": "code",
   "execution_count": 7,
   "metadata": {},
   "outputs": [],
   "source": [
    "def get_s1_mosaic(city):\n",
    "    #input is a gee feature\n",
    "    \n",
    "    roi = city.geometry()\n",
    "\n",
    "    def clip_roi(img):\n",
    "        return img.clip(roi).unmask()\n",
    "\n",
    "    collection = ee.ImageCollection('COPERNICUS/S1_GRD') \\\n",
    "    .filterDate(timePeriod).filterBounds(roi).filter(ee.Filter.listContains('transmitterReceiverPolarisation', 'VV')) \\\n",
    "    .filter(ee.Filter.listContains('transmitterReceiverPolarisation', 'VH')) \\\n",
    "    .filter(ee.Filter.eq('instrumentMode', 'IW')) \\\n",
    "    .select(s1_bands) \\\n",
    "    .map(clip_roi) \\\n",
    "    .median()\n",
    "    return collection\n",
    "\n",
    "#this is just a simple example to get cloud-less s2\n",
    "def get_s2_cloud_free(city):\n",
    "    #input is a gee feature\n",
    "    \n",
    "    roi = city.geometry()\n",
    "    \n",
    "    def clip_roi(img):\n",
    "        return img.clip(roi).unmask()\n",
    "\n",
    "    collection = ee.ImageCollection(\"COPERNICUS/S2\") \\\n",
    "    .filterDate(timePeriod) \\\n",
    "    .filterBounds(roi) \\\n",
    "    .sort('CLOUDY_PIXEL_PERCENTAGE', False) \\\n",
    "    .select(s2_bands) \\\n",
    "    .map(clip_roi) \\\n",
    "    .mosaic()\n",
    "    return collection"
   ]
  },
  {
   "cell_type": "markdown",
   "metadata": {},
   "source": [
    "# Download image patches"
   ]
  },
  {
   "cell_type": "markdown",
   "metadata": {},
   "source": [
    "## Set path and para."
   ]
  },
  {
   "cell_type": "code",
   "execution_count": 25,
   "metadata": {},
   "outputs": [],
   "source": [
    "top_folder = r\".\\files4shTest\\geojson\"\n",
    "\n",
    "out_dir = r\".\\files\\res\"\n",
    "\n",
    "timePeriod = ee.DateRange('2016-01-01', '2017-01-01')\n",
    "\n",
    "start_date = ee.Date.fromYMD(2016, 1, 1)\n",
    "end_date = ee.Date.fromYMD(2017, 1, 1)\n",
    "    \n",
    "s2_bands = ['B1', 'B2', 'B3', 'B4', 'B5', 'B6', 'B7', 'B8', 'B8A', 'B9', 'B10', 'B11', 'B12']\n",
    "\n",
    "s1_bands = [\"VV\", \"VH\"]"
   ]
  },
  {
   "cell_type": "markdown",
   "metadata": {},
   "source": [
    "## Main steps:"
   ]
  },
  {
   "cell_type": "markdown",
   "metadata": {},
   "source": [
    "- loop all the cities\n",
    "- loop all the points in one city: convert each point to a gee feature\n",
    "- find the image and download\n",
    "- record number of points per class per city"
   ]
  },
  {
   "cell_type": "markdown",
   "metadata": {},
   "source": [
    "## read a geojson file"
   ]
  },
  {
   "cell_type": "code",
   "execution_count": 31,
   "metadata": {},
   "outputs": [
    {
     "name": "stdout",
     "output_type": "stream",
     "text": [
      "427 {'type': 'Feature', 'properties': {'Label': 1.0}, 'geometry': {'type': 'Point', 'coordinates': [-43.113008962198165, -22.902129663498574]}}\n"
     ]
    }
   ],
   "source": [
    "import json\n",
    "\n",
    "roiFile=os.path.join(top_folder, \"Rio_de_Janeiro\"+\".geojson\")\n",
    "\n",
    "\n",
    "with open(roiFile) as f:\n",
    "    data = json.load(f)\n",
    "\n",
    "#print(data['features'])\n",
    "\n",
    "print(len(data['features']), data['features'][1])\n",
    "for feature in data['features']:\n",
    "\n",
    "    cor=feature['geometry']['coordinates']\n",
    "    #print(cor)"
   ]
  },
  {
   "cell_type": "markdown",
   "metadata": {},
   "source": [
    "## loop the geojson files and download data for each point"
   ]
  },
  {
   "cell_type": "code",
   "execution_count": 30,
   "metadata": {},
   "outputs": [
    {
     "name": "stdout",
     "output_type": "stream",
     "text": [
      "!!!!!!!!!!!!!!!!! .\\files\\geojson [] ['Rio_de_Janeiro.geojson']\n",
      "Rio_de_Janeiro.geojson\n",
      ".\\files\\geojson\\Rio_de_Janeiro.geojson.geojson\n",
      "{'type': 'Feature', 'geometry': {'type': 'Point', 'coordinates': [-43.23256744314287, -22.927887237130054]}, 'properties': {'Label': 1}}\n",
      "[-43.23256744314287, -22.927887237130054]\n",
      "1 2\n",
      "{'geodesic': False, 'crs': {'type': 'name', 'properties': {'name': 'EPSG:32723'}}, 'type': 'Polygon', 'coordinates': [[[680843.0261719562, 7462980.112749467], [681639.4950473332, 7462970.536778068], [681649.0975748855, 7463767.580970694], [680852.5865477637, 7463777.1546052005], [680843.0261719562, 7462980.112749467]]]}\n",
      "EPSG:32723\n",
      "Generating URL ...\n",
      "Downloading data from https://earthengine.googleapis.com/v1alpha/projects/earthengine-legacy/thumbnails/4167707756796294bfaf16ce4d63bc71-e771f77bbbcb36871b2373149314a610:getPixels\n",
      "Please wait ...\n",
      "[WinError 32] The process cannot access the file because it is being used by another process: 'E:\\\\0Learn\\\\0LearningNotes_python_geo_rs\\\\files\\\\res\\\\Rio_de_Janeiro.geojson\\\\1\\\\1.zip'\n",
      "    Rio_de_Janeiro.geojson\n",
      "1                        1\n",
      "2                        0\n",
      "3                        0\n",
      "4                        0\n",
      "5                        0\n",
      "6                        0\n",
      "7                        0\n",
      "8                        0\n",
      "9                        0\n",
      "10                       0\n",
      "11                       0\n",
      "12                       0\n",
      "13                       0\n",
      "14                       0\n",
      "15                       0\n",
      "16                       0\n",
      "17                       0\n"
     ]
    }
   ],
   "source": [
    "from geeCode_qgis import exportCloudFreeSen2\n",
    "\n",
    "id = 0\n",
    "for path, dirs, files in os.walk(top_folder):\n",
    "\n",
    "\n",
    "    #print(num_label)\n",
    "    print('!!!!!!!!!!!!!!!!!', path, dirs, files)\n",
    "\n",
    "    for d in files:\n",
    "        #sh_path = os.path.join(top_folder, d)\n",
    "        print(d)\n",
    "\n",
    "        file=os.path.join(top_folder, d+\".geojson\")\n",
    "        with open(file) as f:\n",
    "            data = json.load(f)\n",
    "            \n",
    "        print(file)\n",
    "\n",
    "        num_label = pd.Series(0, index=range(1, 18))\n",
    "\n",
    "        'prepare a empty city folder to save download images'\n",
    "        cityFolder = os.path.join(out_dir, d)\n",
    "        if os.path.exists(cityFolder):\n",
    "            shutil.rmtree(cityFolder, ignore_errors=True)\n",
    "\n",
    "        'download a patch for each point'\n",
    "        for i in [19]:#range(len(data['features'])):#shapefile.shape[0]\n",
    "\n",
    "            'convert one row in the shapefile into a feature for gee'\n",
    "            features = []\n",
    "\n",
    "            #geom = shapefile.iloc[i:i + 1, :]\n",
    "            #print('geom',geom)\n",
    "\n",
    "            #'''convert to gee feature'''\n",
    "            #jsonDict = eval(geom.to_json())\n",
    "            #geojsonDict = jsonDict['features'][0]\n",
    "            feature=ee.Feature(data['features'][i])\n",
    "            #\n",
    "            print(feature.getInfo())\n",
    "\n",
    "            #Get the individual geometries as a list.\n",
    "            geometries = feature.geometry()\n",
    "            #print(geometries.getInfo())\n",
    "\n",
    "            pointsC = geometries.coordinates()\n",
    "            print(pointsC.getInfo())\n",
    "\n",
    "            label = feature.get(\"Label\").getInfo()\n",
    "\n",
    "            print(label, pointsC.size().getInfo())\n",
    "            #print('Point 1', geometries.get(0))\n",
    "\n",
    "            '''record the num of labels'''\n",
    "            num_label[label]=num_label[label]+1\n",
    "\n",
    "            'set path to save the download images'\n",
    "            cityFolder_label = os.path.join(cityFolder, str(label))\n",
    "            if not os.path.exists(cityFolder_label):\n",
    "                    os.makedirs(cityFolder_label)\n",
    "            filename = os.path.join(cityFolder_label, str(num_label[label])+'.tif')\n",
    "\n",
    "            #print(feature.getInfo())\n",
    "            feature_epsg = set_utm_epsg(feature)\n",
    "            #print(feature_epsg)\n",
    "            roiF = create_roi(feature_epsg)\n",
    "\n",
    "            'find img'\n",
    "            #this is a negative example of cloud-less images\n",
    "            s2 = get_s2_cloud_free(roiF)\n",
    "            \n",
    "            s2_masked = exportCloudFreeSen2(roiF.geometry(), start_date, end_date)\n",
    "            s2_masked = s2_masked.select(s2_bands)\n",
    "            \n",
    "            \n",
    "            s1 = get_s1_mosaic(roiF)\n",
    "            \n",
    "            'for debug, but the visualization is not good, maybe due to the small size of roi'\n",
    "            #print(s2.getInfo())\n",
    "            Map.addLayer(s2_masked, {'bands': ['B4', 'B3', 'B2'], 'min': 0, 'max': 4000}, \"S2_m\")\n",
    "            \n",
    "            Map.addLayer(s2, {'bands': ['B4', 'B3', 'B2'], 'min': 0, 'max': 4000}, \"S2\")\n",
    "            #Map.addLayer(s1, {'bands': ['VV', 'VH', 'VV'], 'min': -30, 'max': 0}, \"S1\", False)\n",
    "            #print(roiF.geometry().getInfo())\n",
    "            Map.addLayer(roiF, {}, 'roiF')\n",
    "            Map.centerObject(feature.geometry(), 15)\n",
    "            Map\n",
    "\n",
    "            'download'\n",
    "            image = s2_masked.addBands(s1)# s2.addBands(s1)\n",
    "            \n",
    "            roi = ee.Geometry(roiF.geometry())\n",
    "            #print(roi.getInfo())\n",
    "            roi = roi.transform(feature_epsg.get(\"EPSG\"), ee.ErrorMargin(1, \"meters\"))\n",
    "            print(roi.getInfo())\n",
    "            #the transformation here is to make sure that the downloaded images has the expected size (decided with buffer in function create_roi)\n",
    "            \n",
    "            print(feature_epsg.get(\"EPSG\").getInfo())\n",
    "            geemap.ee_export_image(image, filename=filename, scale=10, region=roi, crs=ee.Projection(feature_epsg.get(\"EPSG\")), file_per_band=False)#, region=roi\n",
    "\n",
    "        if id == 0:\n",
    "            label_per_City = pd.DataFrame(num_label,columns=[d])\n",
    "        else:\n",
    "            label_per_City[d] = num_label\n",
    "        id = 1\n",
    "\n",
    "        print(label_per_City)"
   ]
  },
  {
   "cell_type": "code",
   "execution_count": null,
   "metadata": {},
   "outputs": [],
   "source": []
  },
  {
   "cell_type": "markdown",
   "metadata": {},
   "source": [
    "## Important notes:"
   ]
  },
  {
   "cell_type": "markdown",
   "metadata": {},
   "source": [
    "- be careful of data CRS\n",
    "- display/print interm results on map to avoid mistakes\n",
    "- unsure code can be first tested with GEE: https://code.earthengine.google.com\n",
    "- useful Ref: https://github.com/giswqs/earthengine-py-notebooks"
   ]
  },
  {
   "cell_type": "markdown",
   "metadata": {},
   "source": [
    "# Question"
   ]
  },
  {
   "cell_type": "markdown",
   "metadata": {},
   "source": [
    "- "
   ]
  },
  {
   "cell_type": "code",
   "execution_count": null,
   "metadata": {},
   "outputs": [],
   "source": []
  }
 ],
 "metadata": {
  "kernelspec": {
   "display_name": "Python [conda env:geePy3]",
   "language": "python",
   "name": "conda-env-geePy3-py"
  },
  "language_info": {
   "codemirror_mode": {
    "name": "ipython",
    "version": 3
   },
   "file_extension": ".py",
   "mimetype": "text/x-python",
   "name": "python",
   "nbconvert_exporter": "python",
   "pygments_lexer": "ipython3",
   "version": "3.8.3"
  }
 },
 "nbformat": 4,
 "nbformat_minor": 2
}
