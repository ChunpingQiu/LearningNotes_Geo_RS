{
 "cells": [
  {
   "cell_type": "code",
   "execution_count": 8,
   "metadata": {},
   "outputs": [],
   "source": [
    "# Installs geemap package\n",
    "import subprocess\n",
    "\n",
    "try:\n",
    "        import geemap\n",
    "except ImportError:\n",
    "        print('geemap package not installed. Installing ...')\n",
    "        subprocess.check_call([\"python\", '-m', 'pip', 'install', 'geemap'])\n",
    "\n",
    "# Authenticates and initializes Earth Engine\n",
    "import ee\n",
    "\n",
    "try:\n",
    "        ee.Initialize()\n",
    "except Exception as e:\n",
    "        ee.Authenticate()\n",
    "        ee.Initialize()"
   ]
  },
  {
   "cell_type": "markdown",
   "metadata": {},
   "source": [
    "# prepare roi and import cloud-processing functions"
   ]
  },
  {
   "cell_type": "code",
   "execution_count": 54,
   "metadata": {},
   "outputs": [],
   "source": [
    "import sys\n",
    "from geeCode_qgis import exportCloudFreeSen2"
   ]
  },
  {
   "cell_type": "markdown",
   "metadata": {},
   "source": [
    "exportCloudFreeSen2 is the code to process the cloudy images (a not very simple way)."
   ]
  },
  {
   "cell_type": "markdown",
   "metadata": {},
   "source": [
    "## find a feature within the geojson file, just for test"
   ]
  },
  {
   "cell_type": "code",
   "execution_count": 65,
   "metadata": {},
   "outputs": [],
   "source": [
    "import json\n",
    "\n",
    "roiFile=r\".\\files\\Multi_Class_Land_Cover_Change_AOIs.geojson\"\n",
    "\n",
    "with open(roiFile) as f:\n",
    "    data = json.load(f)\n",
    "    \n",
    "#one feature for test\n",
    "feature =data['features'][14]\n",
    "#print(data['features'].dtype)\n",
    "cor=feature['geometry']['coordinates']     \n",
    "aoi = ee.Geometry.Polygon([cor[0][0][0:2], cor[0][1][0:2], cor[0][2][0:2], cor[0][3][0:2],cor[0][4][0:2]], None, False)"
   ]
  },
  {
   "cell_type": "markdown",
   "metadata": {},
   "source": [
    "data['features'] is a list of dic, so the element can be selected using idxing or search (by the ['properties'] of the elements)"
   ]
  },
  {
   "cell_type": "code",
   "execution_count": 66,
   "metadata": {},
   "outputs": [
    {
     "name": "stdout",
     "output_type": "stream",
     "text": [
      "{'type': 'Feature', 'properties': {'title': '4666_2369_13', 'tile_coordinates': {'x': 4666, 'y': 2369, 'z': 13}}, 'geometry': {'type': 'Polygon', 'coordinates': [[[25.048828125, 60.19615576604439], [25.048828125, 60.21799073323445], [25.0927734375, 60.21799073323445], [25.0927734375, 60.19615576604439], [25.048828125, 60.19615576604439]]]}} 34\n"
     ]
    }
   ],
   "source": [
    "feature=next(item for item in data['features'] if item['properties']['title'] == \"4666_2369_13\")\n",
    "\n",
    "idx= next((i for i, item in enumerate(data['features']) if item['properties']['title'] == \"4666_2369_13\"), None)\n",
    "\n",
    "print(feature, idx)\n",
    "\n",
    "cor=feature['geometry']['coordinates']     \n",
    "aoi = ee.Geometry.Polygon([cor[0][0][0:2], cor[0][1][0:2], cor[0][2][0:2], cor[0][3][0:2],cor[0][4][0:2]], None, False)\n"
   ]
  },
  {
   "cell_type": "markdown",
   "metadata": {},
   "source": []
  },
  {
   "cell_type": "markdown",
   "metadata": {},
   "source": [
    "## buffer and visualize the aoi"
   ]
  },
  {
   "cell_type": "code",
   "execution_count": 40,
   "metadata": {},
   "outputs": [],
   "source": [
    " buffer_roi = aoi.buffer(100).bounds().simplify(ee.ErrorMargin(1, \"meters\"))"
   ]
  },
  {
   "cell_type": "code",
   "execution_count": 41,
   "metadata": {},
   "outputs": [
    {
     "data": {
      "application/vnd.jupyter.widget-view+json": {
       "model_id": "99441fea2ea2404ab27313a612029dc4",
       "version_major": 2,
       "version_minor": 0
      },
      "text/plain": [
       "Map(center=[40, -100], controls=(WidgetControl(options=['position'], widget=HBox(children=(ToggleButton(value=…"
      ]
     },
     "metadata": {},
     "output_type": "display_data"
    }
   ],
   "source": [
    "Map = geemap.Map()\n",
    "Map"
   ]
  },
  {
   "cell_type": "code",
   "execution_count": 42,
   "metadata": {},
   "outputs": [],
   "source": [
    "# Display the polygons by adding them to the map.\n",
    "Map.centerObject(aoi,13)\n",
    "Map.addLayer(aoi, {'color': 'FF0000'})\n",
    "Map.addLayer(buffer_roi, {'color': 'FF0000'}, \"buffer_roi\")"
   ]
  },
  {
   "cell_type": "markdown",
   "metadata": {},
   "source": [
    "# Compare the processed image, better?\n",
    "\n",
    "comparing the cloud-processing approaches"
   ]
  },
  {
   "cell_type": "code",
   "execution_count": 64,
   "metadata": {},
   "outputs": [
    {
     "name": "stdout",
     "output_type": "stream",
     "text": [
      "the available s2 data for this roi and time:  6\n"
     ]
    }
   ],
   "source": [
    "year=2019\n",
    "s2_bands = ['B2', 'B3', 'B4', 'B5', 'B6', 'B7', 'B8', 'B8A', 'B11', 'B12']\n",
    "\n",
    "for m in [12]:#range(1,11):\n",
    "    \n",
    "    start_date = ee.Date.fromYMD(year, m, 1)\n",
    "    end_date = ee.Date.fromYMD(year+1, 1, 1)\n",
    "    \n",
    "    s2 = ee.ImageCollection('COPERNICUS/S2') \\\n",
    "\t.filterDate(start_date, end_date).select(s2_bands) \\\n",
    "\t.filterBounds(aoi).median().clip(aoi)\n",
    "    \n",
    "    s2_all = ee.ImageCollection('COPERNICUS/S2') \\\n",
    "    .filterDate(start_date, end_date).filterBounds(aoi)\n",
    "    \n",
    "    #print(s2.getInfo())\n",
    "\n",
    "    print(\"the available s2 data for this roi and time: \", s2_all.size().getInfo())   \n",
    "    \n",
    "    s2_masked = exportCloudFreeSen2(aoi, start_date, end_date)\n",
    "    s2_masked = s2_masked.select(s2_bands)\n",
    "    \n",
    "    #print(s2_masked.getInfo())\n",
    "\n",
    "    Map.addLayer(s2_masked, {'bands': ['B4', 'B3', 'B2'], 'min': 0, 'max': 4000}, \"s2_masked\"+str(m), False)\n",
    "    Map.addLayer(s2, {'bands': ['B4', 'B3', 'B2'], 'min': 0, 'max': 4000}, \"s2\"+str(m), False)\n",
    "    "
   ]
  },
  {
   "cell_type": "markdown",
   "metadata": {},
   "source": [
    "# when converting js files to python files"
   ]
  },
  {
   "cell_type": "markdown",
   "metadata": {},
   "source": [
    "- This can be useful as there are many examples in [GEE](https://code.earthengine.google.com/) written in js.\n",
    "\n",
    "- Some examples for converted files [here](https://github.com/giswqs/geemap/blob/master/geemap/geemap.py)\n",
    "\n",
    "\n",
    "- **from** focal_min({radius: erodePixels, kernelType: 'circle', iterations:3}) **to** focal_min(radius = erodePixels, iterations = 3)\n",
    "\n",
    "- **from** reduceNeighborhood({reducer: ee.Reducer.max(),kernel: ee.Kernel.square(1)}) **to** reduceNeighborhood(reducer=ee.Reducer.max(), kernel=ee.Kernel.square(1))\n",
    "      \n",
    "- **convert tool**:\n",
    "\n",
    "        #from geemap.conversion import *\n",
    "\n",
    "        #js_to_python_dir(in_dir='./files/geeCode', out_dir='./files/geeCode')"
   ]
  },
  {
   "cell_type": "code",
   "execution_count": null,
   "metadata": {},
   "outputs": [],
   "source": []
  }
 ],
 "metadata": {
  "kernelspec": {
   "display_name": "Python [conda env:geePy3]",
   "language": "python",
   "name": "conda-env-geePy3-py"
  },
  "language_info": {
   "codemirror_mode": {
    "name": "ipython",
    "version": 3
   },
   "file_extension": ".py",
   "mimetype": "text/x-python",
   "name": "python",
   "nbconvert_exporter": "python",
   "pygments_lexer": "ipython3",
   "version": "3.8.3"
  }
 },
 "nbformat": 4,
 "nbformat_minor": 2
}
