{
 "cells": [
  {
   "cell_type": "code",
   "execution_count": 1,
   "metadata": {},
   "outputs": [],
   "source": [
    "# Installs geemap package\n",
    "import subprocess\n",
    "\n",
    "try:\n",
    "        import geemap\n",
    "except ImportError:\n",
    "        print('geemap package not installed. Installing ...')\n",
    "        subprocess.check_call([\"python\", '-m', 'pip', 'install', 'geemap'])\n",
    "\n",
    "# Authenticates and initializes Earth Engine\n",
    "import ee\n",
    "\n",
    "try:\n",
    "        ee.Initialize()\n",
    "except Exception as e:\n",
    "        ee.Authenticate()\n",
    "        ee.Initialize()"
   ]
  },
  {
   "cell_type": "markdown",
   "metadata": {},
   "source": [
    "# read ROIs from geojson file"
   ]
  },
  {
   "cell_type": "code",
   "execution_count": 3,
   "metadata": {},
   "outputs": [],
   "source": [
    "import json\n",
    "\n",
    "roiFile=r\".\\files\\Multi_Class_Land_Cover_Change_AOIs.geojson\"\n",
    "\n",
    "with open(roiFile) as f:\n",
    "    data = json.load(f)\n",
    "    \n",
    "for feature in data['features']:\n",
    "    #print(feature['properties'])\n",
    "    #featureGEE=ee.Feature(geojsonDict)\n",
    "    \n",
    "    '''convert to gee feature'''\n",
    "    #jsonDict = eval(geom.to_json())\n",
    "    #geojsonDict = jsonDict['features'][0]\n",
    "\n",
    "    cor=feature['geometry']['coordinates']\n",
    "         \n",
    "    aoi = ee.Geometry.Polygon([cor[0][0][0:2], cor[0][1][0:2], cor[0][2][0:2], cor[0][3][0:2],cor[0][4][0:2]], None, False)\n",
    "    #print(aoi)"
   ]
  },
  {
   "cell_type": "code",
   "execution_count": 4,
   "metadata": {},
   "outputs": [
    {
     "data": {
      "application/vnd.jupyter.widget-view+json": {
       "model_id": "b9a4f106255344b39f4ec5fb5225db84",
       "version_major": 2,
       "version_minor": 0
      },
      "text/plain": [
       "Map(center=[40, -100], controls=(WidgetControl(options=['position'], widget=HBox(children=(ToggleButton(value=…"
      ]
     },
     "metadata": {},
     "output_type": "display_data"
    }
   ],
   "source": [
    "Map = geemap.Map()\n",
    "Map"
   ]
  },
  {
   "cell_type": "markdown",
   "metadata": {},
   "source": [
    "# visualize one aoi"
   ]
  },
  {
   "cell_type": "code",
   "execution_count": 5,
   "metadata": {},
   "outputs": [
    {
     "name": "stdout",
     "output_type": "stream",
     "text": [
      "2832_4366_13\n",
      "{'title': '2832_4366_13', 'tile_coordinates': {'x': 2832, 'y': 4366, 'z': 13}}\n",
      "-55.546875 -11.824341483849047\n"
     ]
    }
   ],
   "source": [
    "feature =data['features'][0]\n",
    "\n",
    "cor=feature['geometry']['coordinates']     \n",
    "aoi = ee.Geometry.Polygon([cor[0][0][0:2], cor[0][1][0:2], cor[0][2][0:2], cor[0][3][0:2],cor[0][4][0:2]], None, False)\n",
    "\n",
    "print(feature['properties']['title'])\n",
    "print(feature['properties'])\n",
    "\n",
    "print(cor[0][0][0], cor[0][0][1])\n"
   ]
  },
  {
   "cell_type": "code",
   "execution_count": 6,
   "metadata": {},
   "outputs": [
    {
     "data": {
      "text/plain": [
       "[31]"
      ]
     },
     "execution_count": 6,
     "metadata": {},
     "output_type": "execute_result"
    }
   ],
   "source": [
    "def get_index(lst=None, item=''):\n",
    "         return [i for i in range(len(lst)) if lst[i]['properties']['title'] == item]\n",
    "\n",
    "get_index(data['features'], \"8079_4130_13\")"
   ]
  },
  {
   "cell_type": "code",
   "execution_count": 7,
   "metadata": {},
   "outputs": [],
   "source": [
    "# Display the polygons by adding them to the map.\n",
    "Map.centerObject(aoi,13)\n",
    "Map.addLayer(aoi, {'color': 'FF0000'})"
   ]
  },
  {
   "cell_type": "markdown",
   "metadata": {},
   "source": [
    "# download monthly s2 data for one aoi "
   ]
  },
  {
   "cell_type": "markdown",
   "metadata": {},
   "source": [
    "## setting parameters"
   ]
  },
  {
   "cell_type": "code",
   "execution_count": 16,
   "metadata": {},
   "outputs": [],
   "source": [
    "timePeriod = ee.DateRange('2018-01-01', '2018-02-01')\n",
    "s2_bands = ['B2', 'B3', 'B4', 'B5', 'B6', 'B7', 'B8', 'B8A', 'B11', 'B12']\n",
    "#['Blue', 'Green', 'Red', 'Red Edge 1', 'Red Edge 2', 'Red Edge 3', 'NIR', 'Red Edge 4', 'SWIR1', 'SWIR2']\n",
    "\n",
    "import os\n",
    "saveFolder= r\".\\files\\res\"\n",
    "filename = os.path.join(saveFolder, feature['properties']['title']+'_201801'+'.tif')"
   ]
  },
  {
   "cell_type": "markdown",
   "metadata": {},
   "source": [
    "## get utm_epsg from (lon, lat)"
   ]
  },
  {
   "cell_type": "code",
   "execution_count": 9,
   "metadata": {},
   "outputs": [],
   "source": [
    "def get_utm_epsg(lon, lat):\n",
    "\t#coords = feature.geometry().coordinates()\n",
    "\tlon = ee.Number(lon)\n",
    "\tlat = ee.Number(lat)\n",
    "\tepsg = ee.Number(32700).subtract(lat.add(45).divide(90).round().multiply(100)).add(lon.add(183).divide(6).round()).uint16()\n",
    "\t#print(epsg.getInfo())\n",
    "\treturn ee.String(\"EPSG:\").cat(ee.String(str(epsg.getInfo())))#ee.String(\"EPSG:\").cat"
   ]
  },
  {
   "cell_type": "code",
   "execution_count": 10,
   "metadata": {},
   "outputs": [],
   "source": [
    "#ee.ImageCollection(\"COPERNICUS/S2_SR\")\n",
    "#https://developers.google.com/earth-engine/datasets/catalog/COPERNICUS_S2_SR\n",
    "\n",
    "def getS2(aoi, start_date, end_date):\n",
    "\t# Define function to mask out clouds and cloud shadows in images.\n",
    "\t# Use CFmask band included in USGS Landsat SR image product.\n",
    "\tdef fmask(img):\n",
    "\t\tcloudOpaqueBitMask = 1 << 10\n",
    "\t\tcloudCirrusBitMask = 1 << 11\n",
    "\t\tqa = img.select('QA60')\n",
    "\t\tmask = qa.bitwiseAnd(cloudOpaqueBitMask).eq(0) \\\n",
    "            .And(qa.bitwiseAnd(cloudCirrusBitMask).eq(0))\n",
    "\t\treturn(img.updateMask(mask))\n",
    "               \n",
    "\timage = ee.ImageCollection('COPERNICUS/S2') \\\n",
    "\t.filterDate(start_date, end_date) \\\n",
    "\t.filterBounds(aoi).map(fmask).select(s2_bands).median()\n",
    "\n",
    "\treturn image.clip(aoi)\n"
   ]
  },
  {
   "cell_type": "code",
   "execution_count": 11,
   "metadata": {},
   "outputs": [],
   "source": [
    "#s2 = getS2(aoi, timePeriod)\n",
    "s2 = ee.ImageCollection('COPERNICUS/S2') \\\n",
    "\t.filterDate(timePeriod).select(s2_bands) \\\n",
    "\t.filterBounds(aoi).median().clip(aoi)\n",
    "\n",
    "#print(s2.getInfo())\n",
    "\n",
    "'for debug'\n",
    "#print(s2.getInfo())\n",
    "Map.addLayer(s2, {'bands': ['B4', 'B3', 'B2'], 'min': 0, 'max': 4000}, \"S2\")"
   ]
  },
  {
   "cell_type": "code",
   "execution_count": 12,
   "metadata": {},
   "outputs": [
    {
     "name": "stdout",
     "output_type": "stream",
     "text": [
      "EPSG:32721\n"
     ]
    }
   ],
   "source": [
    "epsg=get_utm_epsg(cor[0][0][0], cor[0][0][1])\n",
    "print(epsg.getInfo())"
   ]
  },
  {
   "cell_type": "code",
   "execution_count": 13,
   "metadata": {},
   "outputs": [
    {
     "name": "stdout",
     "output_type": "stream",
     "text": [
      ".\\files\\res\\2832_4366_13_201801.zip\n"
     ]
    }
   ],
   "source": [
    "print(filename[:-4]+\".zip\")"
   ]
  },
  {
   "cell_type": "code",
   "execution_count": null,
   "metadata": {},
   "outputs": [],
   "source": [
    "geemap.ee_export_image(s2, filename=filename, scale=10, region=aoi, crs=ee.Projection(epsg), file_per_band=False)\n",
    "os.remove(filename[:-4]+\".zip\")"
   ]
  },
  {
   "cell_type": "markdown",
   "metadata": {},
   "source": [
    "# loop months for downloading"
   ]
  },
  {
   "cell_type": "code",
   "execution_count": null,
   "metadata": {},
   "outputs": [],
   "source": [
    "year=2018\n",
    "\n",
    "for m in range(1,12):\n",
    "    \n",
    "    start_date = ee.Date.fromYMD(year, m, 1)\n",
    "    end_date = ee.Date.fromYMD(year, m+1, 1)\n",
    "    \n",
    "    s2C =  ee.ImageCollection('COPERNICUS/S2') \\\n",
    "\t.filterDate(start_date, end_date).select(s2_bands) \\\n",
    "\t.filterBounds(aoi)\n",
    "    \n",
    "    print(s2C.size().getInfo())\n",
    "    \n",
    "    s2 = s2C.median().clip(aoi)\n",
    "    \n",
    "    filename = os.path.join(saveFolder, feature['properties']['title']+'_'+str(year)+'_'+str(m)+'.tif')\n",
    "    \n",
    "    geemap.ee_export_image(s2, filename=filename, scale=10, region=aoi, crs=ee.Projection(epsg), file_per_band=False)\n",
    "    \n",
    "    os.remove(filename[:-4]+\".zip\")"
   ]
  },
  {
   "cell_type": "markdown",
   "metadata": {},
   "source": [
    "# find a less cloudy image, how?"
   ]
  },
  {
   "cell_type": "code",
   "execution_count": null,
   "metadata": {},
   "outputs": [],
   "source": [
    "\n",
    "year=2018\n",
    "\n",
    "for m in [1,2,3,10,11]:#range(1,6):\n",
    "    \n",
    "    start_date = ee.Date.fromYMD(year, m, 1)\n",
    "    end_date = ee.Date.fromYMD(year, m+1, 1)\n",
    "    \n",
    "    s2 = ee.ImageCollection('COPERNICUS/S2') \\\n",
    "\t.filterDate(start_date, end_date).select(s2_bands) \\\n",
    "\t.filterBounds(aoi).median().clip(aoi)\n",
    "    \n",
    "    s2_masked = getS2(aoi,start_date, end_date)\n",
    "    \n",
    "    # Convert image composite list to collection\n",
    "    # imgCol = ee.ImageCollection.fromImages([s2,s2_masked,s2_masked])\n",
    "    # s2_pro = imgCol.median()\n",
    "    \n",
    "    \n",
    "    Map.addLayer(s2_masked.firstNonZero(s2), {'bands': ['B4', 'B3', 'B2'], 'min': 0, 'max': 4000}, str(m))\n",
    "    Map.addLayer(s2_masked, {'bands': ['B4', 'B3', 'B2'], 'min': 0, 'max': 4000}, \"s2_masked\"+str(m), False)\n",
    "    Map.addLayer(s2, {'bands': ['B4', 'B3', 'B2'], 'min': 0, 'max': 4000}, \"s2\"+str(m), False)\n",
    "    \n",
    "    #filename = os.path.join(saveFolder, feature['properties']['title']+'_'+str(year)+'_'+str(m)+'.tif')\n",
    "    \n",
    "    #geemap.ee_export_image(s2, filename=filename, scale=10, region=aoi, crs=ee.Projection(epsg), file_per_band=False)\n",
    "    \n",
    "    #os.remove(filename[:-4]+\".zip\")\n"
   ]
  },
  {
   "cell_type": "code",
   "execution_count": null,
   "metadata": {},
   "outputs": [],
   "source": []
  }
 ],
 "metadata": {
  "kernelspec": {
   "display_name": "Python [conda env:geePy3]",
   "language": "python",
   "name": "conda-env-geePy3-py"
  },
  "language_info": {
   "codemirror_mode": {
    "name": "ipython",
    "version": 3
   },
   "file_extension": ".py",
   "mimetype": "text/x-python",
   "name": "python",
   "nbconvert_exporter": "python",
   "pygments_lexer": "ipython3",
   "version": "3.8.3"
  }
 },
 "nbformat": 4,
 "nbformat_minor": 2
}
