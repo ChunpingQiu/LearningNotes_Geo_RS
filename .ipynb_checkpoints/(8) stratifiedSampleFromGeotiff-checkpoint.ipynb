{
 "cells": [
  {
   "cell_type": "markdown",
   "metadata": {},
   "source": [
    "# prepare the functions"
   ]
  },
  {
   "cell_type": "code",
   "execution_count": 1,
   "metadata": {},
   "outputs": [
    {
     "ename": "ModuleNotFoundError",
     "evalue": "No module named 'rasterio'",
     "output_type": "error",
     "traceback": [
      "\u001b[1;31m---------------------------------------------------------------------------\u001b[0m",
      "\u001b[1;31mModuleNotFoundError\u001b[0m                       Traceback (most recent call last)",
      "\u001b[1;32m<ipython-input-1-900396634587>\u001b[0m in \u001b[0;36m<module>\u001b[1;34m\u001b[0m\n\u001b[1;32m----> 1\u001b[1;33m \u001b[1;32mimport\u001b[0m \u001b[0mrasterio\u001b[0m\u001b[1;33m\u001b[0m\u001b[1;33m\u001b[0m\u001b[0m\n\u001b[0m\u001b[0;32m      2\u001b[0m \u001b[1;32mimport\u001b[0m \u001b[0mnumpy\u001b[0m \u001b[1;32mas\u001b[0m \u001b[0mnp\u001b[0m\u001b[1;33m\u001b[0m\u001b[1;33m\u001b[0m\u001b[0m\n\u001b[0;32m      3\u001b[0m \u001b[1;32mfrom\u001b[0m \u001b[0maffine\u001b[0m \u001b[1;32mimport\u001b[0m \u001b[0mAffine\u001b[0m\u001b[1;33m\u001b[0m\u001b[1;33m\u001b[0m\u001b[0m\n\u001b[0;32m      4\u001b[0m \u001b[1;32mfrom\u001b[0m \u001b[0mpyproj\u001b[0m \u001b[1;32mimport\u001b[0m \u001b[0mProj\u001b[0m\u001b[1;33m,\u001b[0m \u001b[0mtransform\u001b[0m\u001b[1;33m\u001b[0m\u001b[1;33m\u001b[0m\u001b[0m\n\u001b[0;32m      5\u001b[0m \u001b[1;33m\u001b[0m\u001b[0m\n",
      "\u001b[1;31mModuleNotFoundError\u001b[0m: No module named 'rasterio'"
     ]
    }
   ],
   "source": [
    "import rasterio\n",
    "import numpy as np\n",
    "from affine import Affine\n",
    "from pyproj import Proj, transform\n",
    "\n",
    "import pandas as pd, json\n",
    "\n",
    "def df_to_geojson(df, properties, lat='latitude', lon='longitude'):\n",
    "    geojson = {'type':'FeatureCollection', 'features':[]}\n",
    "    for _, row in df.iterrows():\n",
    "        feature = {'type':'Feature',\n",
    "                   'properties':{},\n",
    "                   'geometry':{'type':'Point',\n",
    "                               'coordinates':[]}}\n",
    "        feature['geometry']['coordinates'] = [row[lon],row[lat]]\n",
    "        for prop in properties:\n",
    "            feature['properties'][prop] = row[prop]\n",
    "        geojson['features'].append(feature)\n",
    "    return geojson\n"
   ]
  },
  {
   "cell_type": "markdown",
   "metadata": {},
   "source": [
    "## read a geo tiff file; sampling points; save the results into geojson file"
   ]
  },
  {
   "cell_type": "code",
   "execution_count": null,
   "metadata": {},
   "outputs": [],
   "source": [
    "\n",
    "#\n",
    "def sampleTifSavePoints(fname, output_filename):\n",
    "        \n",
    "    # Read raster\n",
    "    with rasterio.open(fname) as r:\n",
    "        T0 = r.transform  # upper-left pixel corner affine transform\n",
    "        p1 = Proj(r.crs)\n",
    "        A = r.read()  # pixel values\n",
    "\n",
    "    # All rows and columns\n",
    "    cols, rows = np.meshgrid(np.arange(A.shape[2]), np.arange(A.shape[1]))\n",
    "\n",
    "    # Get affine transform for pixel centres\n",
    "    T1 = T0 * Affine.translation(0.5, 0.5)\n",
    "    # Function to convert pixel row/column index (from 0) to easting/northing at centre\n",
    "    rc2en = lambda r, c: (c, r) * T1\n",
    "\n",
    "    # All eastings and northings (there is probably a faster way to do this)\n",
    "    eastings, northings = np.vectorize(rc2en, otypes=[np.float, np.float])(rows, cols)\n",
    "\n",
    "    # Project all longitudes, latitudes\n",
    "    p2 = Proj(proj='latlong',datum='WGS84')\n",
    "    longs, lats = transform(p1, p2, eastings, northings)\n",
    "\n",
    "    # print(A.shape)\n",
    "    # print(longs.shape)\n",
    "\n",
    "    A=A.reshape(-1,1)\n",
    "    longs=longs.reshape(-1,1)\n",
    "    lats=lats.reshape(-1,1)\n",
    "\n",
    "    # print(A.min(), A.shape)\n",
    "\n",
    "    indexArr = np.argwhere(A < .1)\n",
    "    #print(indexArr)\n",
    "\n",
    "    A = np.delete(A, indexArr)\n",
    "    longs = np.delete(longs, indexArr)\n",
    "    lats = np.delete(lats, indexArr)\n",
    "    #print(np.unique(A))\n",
    "    \n",
    "    \n",
    "    index = np.argwhere(A >90)\n",
    "    A[index] = A[index]-90 \n",
    "    #print(np.unique(A))\n",
    "\n",
    "    # print(Label.min(), lats.shape, longs.shape, Label.shape)\n",
    "\n",
    "    #convert array into pd\n",
    "    df = pd.DataFrame({'longitude':longs.flatten(),'latitude':lats.flatten(),'Label':A.flatten()})\n",
    "    # print(df.shape)\n",
    "    \n",
    "    #sample 30 points for each class\n",
    "    #use all the points if fewer than 30\n",
    "    df_sample=df.groupby('Label', group_keys=False).apply(lambda x: x.sample(min(len(x), 30)))\n",
    "    #print(df_sample.shape)\n",
    "\n",
    "    #write pd into geojson  (which can be open in qgis for visualization)  \n",
    "    cols = ['Label']\n",
    "    geojson_dict = df_to_geojson(df_sample, cols)\n",
    "    geojson_str = json.dumps(geojson_dict, indent=2)\n",
    "\n",
    "    with open(output_filename, \"w\", encoding=\"utf8\") as output_file:\n",
    "        output_file.write(geojson_str)\n",
    "        \n",
    "    if df_sample.shape[0]==0:\n",
    "        return 0\n",
    "    else:\n",
    "        return 1"
   ]
  },
  {
   "cell_type": "markdown",
   "metadata": {},
   "source": [
    "# loop the files in a folder"
   ]
  },
  {
   "cell_type": "code",
   "execution_count": 10,
   "metadata": {},
   "outputs": [
    {
     "name": "stdout",
     "output_type": "stream",
     "text": [
      "2\n"
     ]
    }
   ],
   "source": [
    "import os\n",
    "\n",
    "top_folder = './files4shTest/tifUTM/'\n",
    "for path, dirs, files in os.walk(top_folder):\n",
    "    \n",
    "    print(len(files))\n",
    "    \n",
    "    for d in files:\n",
    "#         print(d[:-4])\n",
    "        \n",
    "        output_filename = './files4shTest/geojson/'+d[:-4]+ '.geojson'\n",
    "        fname = top_folder+d[:-4]+ '.tif'\n",
    "        \n",
    "        id = sampleTifSavePoints(fname, output_filename)\n",
    "        \n",
    "        if id==0:\n",
    "            print(d[:-4])\n",
    "            "
   ]
  },
  {
   "cell_type": "code",
   "execution_count": null,
   "metadata": {},
   "outputs": [],
   "source": []
  }
 ],
 "metadata": {
  "kernelspec": {
   "display_name": "Python [conda env:geePy3]",
   "language": "python",
   "name": "conda-env-geePy3-py"
  },
  "language_info": {
   "codemirror_mode": {
    "name": "ipython",
    "version": 3
   },
   "file_extension": ".py",
   "mimetype": "text/x-python",
   "name": "python",
   "nbconvert_exporter": "python",
   "pygments_lexer": "ipython3",
   "version": "3.8.3"
  }
 },
 "nbformat": 4,
 "nbformat_minor": 2
}
