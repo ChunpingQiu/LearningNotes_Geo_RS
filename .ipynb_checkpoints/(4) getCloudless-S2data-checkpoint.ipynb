{
 "cells": [
  {
   "cell_type": "code",
   "execution_count": 8,
   "metadata": {},
   "outputs": [],
   "source": [
    "# Installs geemap package\n",
    "import subprocess\n",
    "\n",
    "try:\n",
    "        import geemap\n",
    "except ImportError:\n",
    "        print('geemap package not installed. Installing ...')\n",
    "        subprocess.check_call([\"python\", '-m', 'pip', 'install', 'geemap'])\n",
    "\n",
    "# Authenticates and initializes Earth Engine\n",
    "import ee\n",
    "\n",
    "try:\n",
    "        ee.Initialize()\n",
    "except Exception as e:\n",
    "        ee.Authenticate()\n",
    "        ee.Initialize()"
   ]
  },
  {
   "cell_type": "markdown",
   "metadata": {},
   "source": [
    "# prepare roi and import cloud-processing functions"
   ]
  },
  {
   "cell_type": "code",
   "execution_count": 29,
   "metadata": {},
   "outputs": [],
   "source": [
    "import sys\n",
    "#sys.path.append('./files')\n",
    "\n",
    "from geeCode_qgis import exportCloudFreeSen2"
   ]
  },
  {
   "cell_type": "markdown",
   "metadata": {},
   "source": [
    "## find a feature within the geojson file"
   ]
  },
  {
   "cell_type": "code",
   "execution_count": 28,
   "metadata": {},
   "outputs": [
    {
     "name": "stdout",
     "output_type": "stream",
     "text": [
      "{'type': 'Feature', 'properties': {'title': '4666_2369_13', 'tile_coordinates': {'x': 4666, 'y': 2369, 'z': 13}}, 'geometry': {'type': 'Polygon', 'coordinates': [[[25.048828125, 60.19615576604439], [25.048828125, 60.21799073323445], [25.0927734375, 60.21799073323445], [25.0927734375, 60.19615576604439], [25.048828125, 60.19615576604439]]]}} 34\n"
     ]
    }
   ],
   "source": [
    "import json\n",
    "\n",
    "roiFile=r\".\\files\\Multi_Class_Land_Cover_Change_AOIs.geojson\"\n",
    "\n",
    "with open(roiFile) as f:\n",
    "    data = json.load(f)\n",
    "    \n",
    "#one feature for test\n",
    "feature =data['features'][14]\n",
    "#print(data['features'].dtype)\n",
    "cor=feature['geometry']['coordinates']     \n",
    "aoi = ee.Geometry.Polygon([cor[0][0][0:2], cor[0][1][0:2], cor[0][2][0:2], cor[0][3][0:2],cor[0][4][0:2]], None, False)\n",
    "\n"
   ]
  },
  {
   "cell_type": "code",
   "execution_count": 39,
   "metadata": {},
   "outputs": [
    {
     "name": "stdout",
     "output_type": "stream",
     "text": [
      "{'type': 'Feature', 'properties': {'title': '4666_2369_13', 'tile_coordinates': {'x': 4666, 'y': 2369, 'z': 13}}, 'geometry': {'type': 'Polygon', 'coordinates': [[[25.048828125, 60.19615576604439], [25.048828125, 60.21799073323445], [25.0927734375, 60.21799073323445], [25.0927734375, 60.19615576604439], [25.048828125, 60.19615576604439]]]}} 34\n"
     ]
    }
   ],
   "source": [
    "#        if feature['properties']['title'] == \"4666_2369_13\" or feature['properties']['title'] == \"8079_4130_13\" :\n",
    "#                continue\n",
    "\n",
    "feature=next(item for item in data['features'] if item['properties']['title'] == \"4666_2369_13\")\n",
    "\n",
    "idx= next((i for i, item in enumerate(data['features']) if item['properties']['title'] == \"4666_2369_13\"), None)\n",
    "\n",
    "print(feature, idx)\n",
    "\n",
    "cor=feature['geometry']['coordinates']     \n",
    "aoi = ee.Geometry.Polygon([cor[0][0][0:2], cor[0][1][0:2], cor[0][2][0:2], cor[0][3][0:2],cor[0][4][0:2]], None, False)\n"
   ]
  },
  {
   "cell_type": "markdown",
   "metadata": {},
   "source": []
  },
  {
   "cell_type": "markdown",
   "metadata": {},
   "source": [
    "## buffer the aoi"
   ]
  },
  {
   "cell_type": "code",
   "execution_count": 40,
   "metadata": {},
   "outputs": [],
   "source": [
    "#buffer = feature.transform(ee.Projection(feature.get(\"EPSG\")), ee.ErrorMargin(1, \"meters\")).buffer(400)\n",
    "\t#// Get bounding boxx and simplify it to approximate a North aligned square ROI\n",
    "    \n",
    "buffer_roi = aoi.buffer(100).bounds().simplify(ee.ErrorMargin(1, \"meters\"))\n",
    "\n"
   ]
  },
  {
   "cell_type": "code",
   "execution_count": 41,
   "metadata": {},
   "outputs": [
    {
     "data": {
      "application/vnd.jupyter.widget-view+json": {
       "model_id": "99441fea2ea2404ab27313a612029dc4",
       "version_major": 2,
       "version_minor": 0
      },
      "text/plain": [
       "Map(center=[40, -100], controls=(WidgetControl(options=['position'], widget=HBox(children=(ToggleButton(value=…"
      ]
     },
     "metadata": {},
     "output_type": "display_data"
    }
   ],
   "source": [
    "Map = geemap.Map()\n",
    "Map\n"
   ]
  },
  {
   "cell_type": "code",
   "execution_count": 42,
   "metadata": {},
   "outputs": [],
   "source": [
    "#s2_masked = exportCloudFreeSen2(aoi, start_date, end_date)\n",
    "\n",
    "# Display the polygons by adding them to the map.\n",
    "Map.centerObject(aoi,13)\n",
    "Map.addLayer(aoi, {'color': 'FF0000'})\n",
    "Map.addLayer(buffer_roi, {'color': 'FF0000'}, \"buffer_roi\")\n"
   ]
  },
  {
   "cell_type": "markdown",
   "metadata": {},
   "source": [
    "# Compare the processed image, better?"
   ]
  },
  {
   "cell_type": "code",
   "execution_count": 44,
   "metadata": {},
   "outputs": [
    {
     "name": "stdout",
     "output_type": "stream",
     "text": [
      "the available s2 data for this roi and time:  12\n",
      "{'type': 'Image', 'bands': [{'id': 'B2', 'data_type': {'type': 'PixelType', 'precision': 'int', 'min': 0, 'max': 65535}, 'crs': 'EPSG:4326', 'crs_transform': [1, 0, 0, 0, 1, 0]}, {'id': 'B3', 'data_type': {'type': 'PixelType', 'precision': 'int', 'min': 0, 'max': 65535}, 'crs': 'EPSG:4326', 'crs_transform': [1, 0, 0, 0, 1, 0]}, {'id': 'B4', 'data_type': {'type': 'PixelType', 'precision': 'int', 'min': 0, 'max': 65535}, 'crs': 'EPSG:4326', 'crs_transform': [1, 0, 0, 0, 1, 0]}, {'id': 'B5', 'data_type': {'type': 'PixelType', 'precision': 'int', 'min': 0, 'max': 65535}, 'crs': 'EPSG:4326', 'crs_transform': [1, 0, 0, 0, 1, 0]}, {'id': 'B6', 'data_type': {'type': 'PixelType', 'precision': 'int', 'min': 0, 'max': 65535}, 'crs': 'EPSG:4326', 'crs_transform': [1, 0, 0, 0, 1, 0]}, {'id': 'B7', 'data_type': {'type': 'PixelType', 'precision': 'int', 'min': 0, 'max': 65535}, 'crs': 'EPSG:4326', 'crs_transform': [1, 0, 0, 0, 1, 0]}, {'id': 'B8', 'data_type': {'type': 'PixelType', 'precision': 'int', 'min': 0, 'max': 65535}, 'crs': 'EPSG:4326', 'crs_transform': [1, 0, 0, 0, 1, 0]}, {'id': 'B8A', 'data_type': {'type': 'PixelType', 'precision': 'int', 'min': 0, 'max': 65535}, 'crs': 'EPSG:4326', 'crs_transform': [1, 0, 0, 0, 1, 0]}, {'id': 'B11', 'data_type': {'type': 'PixelType', 'precision': 'int', 'min': 0, 'max': 65535}, 'crs': 'EPSG:4326', 'crs_transform': [1, 0, 0, 0, 1, 0]}, {'id': 'B12', 'data_type': {'type': 'PixelType', 'precision': 'int', 'min': 0, 'max': 65535}, 'crs': 'EPSG:4326', 'crs_transform': [1, 0, 0, 0, 1, 0]}]}\n"
     ]
    }
   ],
   "source": [
    "\n",
    "year=2018\n",
    "s2_bands = ['B2', 'B3', 'B4', 'B5', 'B6', 'B7', 'B8', 'B8A', 'B11', 'B12']\n",
    "\n",
    "for m in [11]:#range(1,6):\n",
    "    \n",
    "    start_date = ee.Date.fromYMD(year, m, 1)\n",
    "    end_date = ee.Date.fromYMD(year, m+1, 1)\n",
    "    \n",
    "    s2 = ee.ImageCollection('COPERNICUS/S2') \\\n",
    "\t.filterDate(start_date, end_date).select(s2_bands) \\\n",
    "\t.filterBounds(aoi).median().clip(aoi)\n",
    "    \n",
    "    s2_all = ee.ImageCollection('COPERNICUS/S2') \\\n",
    "    .filterDate(start_date, end_date).filterBounds(aoi)\n",
    "    \n",
    "    #print(s2.getInfo())\n",
    "\n",
    "    print(\"the available s2 data for this roi and time: \", s2_all.size().getInfo())   \n",
    "    \n",
    "    s2_masked = exportCloudFreeSen2(aoi, start_date, end_date)\n",
    "    s2_masked = s2_masked.select(s2_bands)\n",
    "    \n",
    "    print(s2_masked.getInfo())\n",
    "\n",
    "    Map.addLayer(s2_masked, {'bands': ['B4', 'B3', 'B2'], 'min': 0, 'max': 4000}, \"s2_masked\"+str(m), False)\n",
    "    Map.addLayer(s2, {'bands': ['B4', 'B3', 'B2'], 'min': 0, 'max': 4000}, \"s2\"+str(m), False)"
   ]
  },
  {
   "cell_type": "markdown",
   "metadata": {},
   "source": [
    "# when converting js files to python files"
   ]
  },
  {
   "cell_type": "markdown",
   "metadata": {},
   "source": [
    "- **from** focal_min({radius: erodePixels, kernelType: 'circle', iterations:3}) **to** focal_min(radius = erodePixels, iterations = 3)\n",
    "\n",
    "- **from** reduceNeighborhood({reducer: ee.Reducer.max(),kernel: ee.Kernel.square(1)}) **to** reduceNeighborhood(reducer=ee.Reducer.max(), kernel=ee.Kernel.square(1))\n",
    "      \n",
    "- **convert tool**:\n",
    "\n",
    "        #from geemap.conversion import *\n",
    "\n",
    "        #js_to_python_dir(in_dir='./files/geeCode', out_dir='./files/geeCode')"
   ]
  },
  {
   "cell_type": "code",
   "execution_count": null,
   "metadata": {},
   "outputs": [],
   "source": []
  },
  {
   "cell_type": "code",
   "execution_count": 47,
   "metadata": {},
   "outputs": [
    {
     "ename": "SyntaxError",
     "evalue": "EOL while scanning string literal (<ipython-input-47-71ad478f1cb6>, line 1)",
     "output_type": "error",
     "traceback": [
      "\u001b[1;36m  File \u001b[1;32m\"<ipython-input-47-71ad478f1cb6>\"\u001b[1;36m, line \u001b[1;32m1\u001b[0m\n\u001b[1;33m    saveFolder_ = r'.\\files\\s2_cd\\4666_2369_13\\'\u001b[0m\n\u001b[1;37m                                                ^\u001b[0m\n\u001b[1;31mSyntaxError\u001b[0m\u001b[1;31m:\u001b[0m EOL while scanning string literal\n"
     ]
    }
   ],
   "source": [
    "saveFolder_ = r\".\\files\\s2_cd\\4666_2369_13\"\n",
    "\n",
    "\n",
    "for i in [1]:    \n",
    "    epsg = get_utm_epsg(cor[0][0][0], cor[0][0][1])\n",
    "\n",
    "        for year in [2018,2019]:\n",
    "\n",
    "                for m in range(1, 12):\n",
    "                        start_date = ee.Date.fromYMD(year, m, 1)\n",
    "                        end_date = ee.Date.fromYMD(year, m + 1, 1)\n",
    "\n",
    "                        s2_all = ee.ImageCollection('COPERNICUS/S2') \\\n",
    "                                .filterDate(start_date, end_date).filterBounds(aoi)\n",
    "\n",
    "                        print(\"the available s2 data for this roi and time: \", s2_all.size().getInfo())\n",
    "\n",
    "                        s2_masked = exportCloudFreeSen2(aoi, start_date, end_date)\n",
    "                        s2_masked = s2_masked.select(s2_bands)\n",
    "\n",
    "                        if m<10:\n",
    "                                filename = os.path.join(saveFolder_,\n",
    "                                                        feature['properties']['title'] + '_' + str(year) + '_0' + str(\n",
    "                                                                m) + '.tif')\n",
    "                        else:\n",
    "                                filename = os.path.join(saveFolder_,\n",
    "                                                feature['properties']['title'] + '_' + str(year) + '_' + str(\n",
    "                                                        m) + '.tif')\n",
    "\n",
    "                        geemap.ee_export_image(s2_masked, filename=filename, scale=10, region=aoi, crs=ee.Projection(epsg),\n",
    "                                               file_per_band=False)\n",
    "\n",
    "                        os.remove(filename[:-4] + \".zip\")\n",
    "\n",
    "\n",
    "                start_date = ee.Date.fromYMD(year, 12, 1)\n",
    "                end_date = ee.Date.fromYMD(year + 1, 1, 1)\n",
    "\n",
    "                #s2 = ee.ImageCollection('COPERNICUS/S2') \\\n",
    "                #        .filterDate(start_date, end_date).select(s2_bands) \\\n",
    "                #        .filterBounds(aoi).median().clip(aoi)\n",
    "\n",
    "                s2_masked = exportCloudFreeSen2(aoi, start_date, end_date)\n",
    "                s2_masked = s2_masked.select(s2_bands)\n",
    "\n",
    "                filename = os.path.join(saveFolder_,\n",
    "                                        feature['properties']['title'] + '_' + str(year) + '_' + str(m+1) + '.tif')\n",
    "\n",
    "                geemap.ee_export_image(s2_masked, filename=filename, scale=10, region=aoi, crs=ee.Projection(epsg),\n",
    "                                       file_per_band=False)\n",
    "\n",
    "                os.remove(filename[:-4] + \".zip\")"
   ]
  },
  {
   "cell_type": "code",
   "execution_count": null,
   "metadata": {},
   "outputs": [],
   "source": []
  }
 ],
 "metadata": {
  "kernelspec": {
   "display_name": "Python [conda env:geePy3]",
   "language": "python",
   "name": "conda-env-geePy3-py"
  },
  "language_info": {
   "codemirror_mode": {
    "name": "ipython",
    "version": 3
   },
   "file_extension": ".py",
   "mimetype": "text/x-python",
   "name": "python",
   "nbconvert_exporter": "python",
   "pygments_lexer": "ipython3",
   "version": "3.8.3"
  }
 },
 "nbformat": 4,
 "nbformat_minor": 2
}
