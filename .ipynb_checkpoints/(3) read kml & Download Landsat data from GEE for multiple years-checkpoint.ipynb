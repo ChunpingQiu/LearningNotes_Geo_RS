{
 "cells": [
  {
   "cell_type": "markdown",
   "metadata": {},
   "source": [
    "No idea how to get cloud-less historical landsat data yet."
   ]
  },
  {
   "cell_type": "code",
   "execution_count": 2,
   "metadata": {},
   "outputs": [],
   "source": [
    "# Installs geemap package\n",
    "import subprocess\n",
    "\n",
    "try:\n",
    "        import geemap\n",
    "except ImportError:\n",
    "        print('geemap package not installed. Installing ...')\n",
    "        subprocess.check_call([\"python\", '-m', 'pip', 'install', 'geemap'])\n",
    "\n",
    "# Authenticates and initializes Earth Engine\n",
    "import ee\n",
    "\n",
    "try:\n",
    "        ee.Initialize()\n",
    "except Exception as e:\n",
    "        ee.Authenticate()\n",
    "        ee.Initialize()"
   ]
  },
  {
   "cell_type": "markdown",
   "metadata": {},
   "source": [
    "# read a kml file and get the coordinates"
   ]
  },
  {
   "cell_type": "code",
   "execution_count": 23,
   "metadata": {},
   "outputs": [
    {
     "name": "stdout",
     "output_type": "stream",
     "text": [
      "(177, 12)\n",
      "geom POLYGON Z ((-43.17864255863062 -22.90157687956335 0, -43.17670204128276 -22.90106832915569 0, -43.17528185700142 -22.90363105179198 0, -43.17412043805864 -22.9054605176207 0, -43.17348214990605 -22.90738517122853 0, -43.1719563214834 -22.91093258117178 0, -43.17463328535334 -22.91241252727201 0, -43.17584627984972 -22.90886198305033 0, -43.17710710628753 -22.90552088593094 0, -43.17864255863062 -22.90157687956335 0))\n",
      "-43.1752558600014 -22.906782934461642\n"
     ]
    },
    {
     "ename": "AttributeError",
     "evalue": "'Point' object has no attribute 'to_file'",
     "output_type": "error",
     "traceback": [
      "\u001b[1;31m---------------------------------------------------------------------------\u001b[0m",
      "\u001b[1;31mAttributeError\u001b[0m                            Traceback (most recent call last)",
      "\u001b[1;32m<ipython-input-23-79eec6605604>\u001b[0m in \u001b[0;36m<module>\u001b[1;34m\u001b[0m\n\u001b[0;32m     10\u001b[0m \u001b[0mprint\u001b[0m\u001b[1;33m(\u001b[0m\u001b[0mp1\u001b[0m\u001b[1;33m.\u001b[0m\u001b[0mx\u001b[0m\u001b[1;33m,\u001b[0m\u001b[0mp1\u001b[0m\u001b[1;33m.\u001b[0m\u001b[0my\u001b[0m\u001b[1;33m)\u001b[0m\u001b[1;33m\u001b[0m\u001b[1;33m\u001b[0m\u001b[0m\n\u001b[0;32m     11\u001b[0m \u001b[1;33m\u001b[0m\u001b[0m\n\u001b[1;32m---> 12\u001b[1;33m \u001b[0mp1\u001b[0m\u001b[1;33m.\u001b[0m\u001b[0mto_file\u001b[0m\u001b[1;33m(\u001b[0m\u001b[1;34m\"studyArea.geojson\"\u001b[0m\u001b[1;33m,\u001b[0m \u001b[0mdriver\u001b[0m\u001b[1;33m=\u001b[0m\u001b[1;34m'GeoJSON'\u001b[0m\u001b[1;33m)\u001b[0m\u001b[1;33m\u001b[0m\u001b[1;33m\u001b[0m\u001b[0m\n\u001b[0m\u001b[0;32m     13\u001b[0m \u001b[1;33m\u001b[0m\u001b[0m\n\u001b[0;32m     14\u001b[0m \u001b[0mprint\u001b[0m\u001b[1;33m(\u001b[0m\u001b[0mshapefile\u001b[0m\u001b[1;33m.\u001b[0m\u001b[0mcrs\u001b[0m\u001b[1;33m)\u001b[0m\u001b[1;33m\u001b[0m\u001b[1;33m\u001b[0m\u001b[0m\n",
      "\u001b[1;31mAttributeError\u001b[0m: 'Point' object has no attribute 'to_file'"
     ]
    }
   ],
   "source": [
    "shp_path = r'.\\files4shTest\\shapeFile\\Rio_de_Janeiro\\Rio_de_Janeiro.shp'\n",
    "\n",
    "shapefile = gpd.read_file(shp_path)\n",
    "print(shapefile.shape)\n",
    "\n",
    "geom = shapefile.iloc[0, :]['geometry']\n",
    "print('geom',geom)\n",
    "\n",
    "p1=geom.centroid\n",
    "print(p1.x,p1.y)\n",
    "\n",
    "p1.to_file(\"studyArea.geojson\", driver='GeoJSON')\n",
    "\n",
    "print(shapefile.crs)"
   ]
  },
  {
   "cell_type": "markdown",
   "metadata": {},
   "source": [
    "# playaround gpd: read a kml file and convert to gee polygon"
   ]
  },
  {
   "cell_type": "code",
   "execution_count": 24,
   "metadata": {},
   "outputs": [
    {
     "name": "stdout",
     "output_type": "stream",
     "text": [
      "{'id': '0', 'type': 'Feature', 'properties': {'Description': '', 'Name': 'zhengzhou'}, 'geometry': {'type': 'Polygon', 'coordinates': [[[113.4428143023446, 34.59865400274417, 0.0], [113.8930630828336, 34.60378289276893, 0.0], [113.8953835475239, 34.86488969739759, 0.0], [113.4355495368252, 34.8620760235706, 0.0], [113.4428143023446, 34.59865400274417, 0.0]]]}}\n",
      "\n",
      "ee.Geometry({\n",
      "  \"type\": \"Invocation\",\n",
      "  \"arguments\": {\n",
      "    \"coordinates\": [\n",
      "      [\n",
      "        113.4428143023446,\n",
      "        34.59865400274417\n",
      "      ],\n",
      "      [\n",
      "        113.8930630828336,\n",
      "        34.60378289276893\n",
      "      ],\n",
      "      [\n",
      "        113.8953835475239,\n",
      "        34.86488969739759\n",
      "      ],\n",
      "      [\n",
      "        113.4355495368252,\n",
      "        34.8620760235706\n",
      "      ],\n",
      "      [\n",
      "        113.4428143023446,\n",
      "        34.59865400274417\n",
      "      ]\n",
      "    ],\n",
      "    \"geodesic\": false\n",
      "  },\n",
      "  \"functionName\": \"GeometryConstructors.Polygon\"\n",
      "})\n"
     ]
    }
   ],
   "source": [
    "import geopandas as gpd\n",
    "import fiona \n",
    "\n",
    "# Enable fiona driver\n",
    "gpd.io.file.fiona.drvsupport.supported_drivers['KML'] = 'rw'\n",
    "\n",
    "polygon = gpd.read_file(r'.\\files\\zhengzhou.kml', driver='KML')\n",
    "# print(polygon)\n",
    "geom = polygon.iloc[0:1, :]\n",
    "# print(geom)\n",
    "\n",
    "'''convert to gee feature'''\n",
    "jsonDict = eval(geom.to_json())\n",
    "geojsonDict = jsonDict['features'][0]\n",
    "print(geojsonDict)\n",
    "\n",
    "cor=geojsonDict['geometry']['coordinates']\n",
    "print()\n",
    "         \n",
    "aoi = ee.Geometry.Polygon([cor[0][0][0:2], cor[0][1][0:2], cor[0][2][0:2], cor[0][3][0:2],cor[0][4][0:2]], None, False)\n",
    "print(aoi)\n",
    "            "
   ]
  },
  {
   "cell_type": "code",
   "execution_count": null,
   "metadata": {},
   "outputs": [],
   "source": []
  },
  {
   "cell_type": "markdown",
   "metadata": {},
   "source": [
    "# playaround gee"
   ]
  },
  {
   "cell_type": "code",
   "execution_count": 8,
   "metadata": {
    "scrolled": true
   },
   "outputs": [
    {
     "data": {
      "application/vnd.jupyter.widget-view+json": {
       "model_id": "491fd9b75a5a4eabbc61e53e947301cb",
       "version_major": 2,
       "version_minor": 0
      },
      "text/plain": [
       "Map(center=[40, -100], controls=(WidgetControl(options=['position'], widget=HBox(children=(ToggleButton(value=…"
      ]
     },
     "metadata": {},
     "output_type": "display_data"
    }
   ],
   "source": [
    "Map = geemap.Map()\n",
    "Map"
   ]
  },
  {
   "cell_type": "code",
   "execution_count": 9,
   "metadata": {},
   "outputs": [],
   "source": [
    "# Display the polygons by adding them to the map.\n",
    "Map.centerObject(aoi,10)\n",
    "Map.addLayer(aoi, {'color': 'FF0000'})"
   ]
  },
  {
   "cell_type": "code",
   "execution_count": 5,
   "metadata": {},
   "outputs": [
    {
     "name": "stdout",
     "output_type": "stream",
     "text": [
      "Generating URL...\n",
      "Downloading GIF image from https://earthengine.googleapis.com/v1alpha/projects/earthengine-legacy/videoThumbnails/d5d3166e93942a3db0db40e337d4ca57-91f24ff8e3c04dcf39038e8ddd4fb981:getPixels\n",
      "Please wait ...\n",
      "The GIF image has been saved to: C:\\Users\\User\\Downloads\\landsat_ts_sqt.gif\n",
      "Adding animated text to GIF ...\n",
      "Adding GIF to the map ...\n"
     ]
    }
   ],
   "source": [
    "Map.add_landsat_ts_gif(label='', start_year=1985, bands=['Red', 'Green','Blue'], frames_per_second=5)# a default example"
   ]
  },
  {
   "cell_type": "code",
   "execution_count": 10,
   "metadata": {
    "scrolled": true
   },
   "outputs": [
    {
     "name": "stdout",
     "output_type": "stream",
     "text": [
      "Generating URL...\n",
      "Downloading GIF image from https://earthengine.googleapis.com/v1alpha/projects/earthengine-legacy/videoThumbnails/52b55fcce9a6898a2ea4e86d0c075c55-e81dee7a9dcf29ef4f79b03469bf1dd5:getPixels\n",
      "Please wait ...\n",
      "The GIF image has been saved to: C:\\Users\\User\\Downloads\\landsat_ts_roi.gif\n",
      "Adding animated text to GIF ...\n",
      "Adding GIF to the map ...\n"
     ]
    }
   ],
   "source": [
    "#To create a Landsat timelapse animation and add it to the Map:  \n",
    "Map.add_landsat_ts_gif(label='roi', roi=aoi, start_year=1985, bands=['Red', 'Green','Blue'], frames_per_second=1)#for the selected area\n",
    "#"
   ]
  },
  {
   "cell_type": "markdown",
   "metadata": {},
   "source": [
    "# The images in the gif is very bad, some improvements need to be done for the data to be useful"
   ]
  },
  {
   "cell_type": "code",
   "execution_count": 76,
   "metadata": {},
   "outputs": [
    {
     "name": "stdout",
     "output_type": "stream",
     "text": [
      "Count:  36\n"
     ]
    }
   ],
   "source": [
    "imgC=geemap.landsat_timeseries(roi=aoi, start_year=1984, end_year=2019, start_date='06-10', end_date='09-20')\n",
    "#print(imgC.getInfo())\n",
    "count = imgC.size().getInfo()\n",
    "print(\"Count: \", count)\n",
    "vis = {'bands': ['Red', 'Green','Blue']}\n",
    "Map.addLayer(imgC,vis)"
   ]
  },
  {
   "cell_type": "code",
   "execution_count": null,
   "metadata": {},
   "outputs": [],
   "source": [
    "geemap.ee_export_image_collection(ee_object, output, scale, crs, region, file_per_band)"
   ]
  },
  {
   "cell_type": "markdown",
   "metadata": {},
   "source": [
    "# "
   ]
  },
  {
   "cell_type": "code",
   "execution_count": null,
   "metadata": {},
   "outputs": [],
   "source": [
    "import os\n",
    "\n",
    "# aoi = ee.Geometry.Polygon(\n",
    "#   [[[-110.8, 44.7],\n",
    "#     [-110.8, 44.6],\n",
    "#     [-110.6, 44.6],\n",
    "#     [-110.6, 44.7]]], None, False)\n",
    "\n",
    "loc = ee.Geometry.Point(-99.2222, 46.7816)\n",
    "collection = ee.ImageCollection('USDA/NAIP/DOQQ') \\\n",
    "    .filterBounds(loc) \\\n",
    "    .filterDate('2008-01-01', '2020-01-01') \\\n",
    "    .filter(ee.Filter.listContains(\"system:band_names\", \"N\"))\n",
    "\n",
    "out_dir = os.path.join(os.path.expanduser('~'), 'Downloads')\n",
    "\n",
    "print(collection.aggregate_array('system:index').getInfo())\n",
    "\n",
    "geemap.ee_export_image_collection(collection, out_dir=out_dir)\n",
    "\n",
    "#https://github.com/giswqs/geemap/blob/master/examples/notebooks/11_export_image.ipynb"
   ]
  }
 ],
 "metadata": {
  "kernelspec": {
   "display_name": "Python [conda env:geePy3]",
   "language": "python",
   "name": "conda-env-geePy3-py"
  },
  "language_info": {
   "codemirror_mode": {
    "name": "ipython",
    "version": 3
   },
   "file_extension": ".py",
   "mimetype": "text/x-python",
   "name": "python",
   "nbconvert_exporter": "python",
   "pygments_lexer": "ipython3",
   "version": "3.8.3"
  }
 },
 "nbformat": 4,
 "nbformat_minor": 4
}
