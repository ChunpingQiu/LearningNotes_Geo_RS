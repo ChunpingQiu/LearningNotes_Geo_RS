{
 "cells": [
  {
   "cell_type": "code",
   "execution_count": 1,
   "metadata": {},
   "outputs": [],
   "source": [
    "# Installs geemap package\n",
    "import subprocess\n",
    "\n",
    "try:\n",
    "        import geemap\n",
    "except ImportError:\n",
    "        print('geemap package not installed. Installing ...')\n",
    "        subprocess.check_call([\"python\", '-m', 'pip', 'install', 'geemap'])\n",
    "\n",
    "# Authenticates and initializes Earth Engine\n",
    "import ee\n",
    "\n",
    "try:\n",
    "        ee.Initialize()\n",
    "except Exception as e:\n",
    "        ee.Authenticate()\n",
    "        ee.Initialize()"
   ]
  },
  {
   "cell_type": "markdown",
   "metadata": {},
   "source": [
    "# read ROIs from geojson file"
   ]
  },
  {
   "cell_type": "code",
   "execution_count": 2,
   "metadata": {},
   "outputs": [],
   "source": [
    "import json\n",
    "\n",
    "roiFile=r\".\\files\\Multi_Class_Land_Cover_Change_AOIs.geojson\"\n",
    "\n",
    "with open(roiFile) as f:\n",
    "    data = json.load(f)\n",
    "    \n",
    "for feature in data['features']:\n",
    "    #print(feature['properties'])\n",
    "    #featureGEE=ee.Feature(geojsonDict)\n",
    "    \n",
    "    '''convert to gee feature'''\n",
    "    #jsonDict = eval(geom.to_json())\n",
    "    #geojsonDict = jsonDict['features'][0]\n",
    "\n",
    "    cor=feature['geometry']['coordinates']\n",
    "         \n",
    "    aoi = ee.Geometry.Polygon([cor[0][0][0:2], cor[0][1][0:2], cor[0][2][0:2], cor[0][3][0:2],cor[0][4][0:2]], None, False)\n",
    "    #print(aoi)"
   ]
  },
  {
   "cell_type": "code",
   "execution_count": 3,
   "metadata": {},
   "outputs": [
    {
     "data": {
      "application/vnd.jupyter.widget-view+json": {
       "model_id": "61cebaeaa20b475892458f72ed871186",
       "version_major": 2,
       "version_minor": 0
      },
      "text/plain": [
       "Map(center=[40, -100], controls=(WidgetControl(options=['position'], widget=HBox(children=(ToggleButton(value=…"
      ]
     },
     "metadata": {},
     "output_type": "display_data"
    }
   ],
   "source": [
    "Map = geemap.Map()\n",
    "Map"
   ]
  },
  {
   "cell_type": "markdown",
   "metadata": {},
   "source": [
    "# visualize one aoi"
   ]
  },
  {
   "cell_type": "code",
   "execution_count": 9,
   "metadata": {},
   "outputs": [
    {
     "name": "stdout",
     "output_type": "stream",
     "text": [
      "2832_4366_13\n",
      "-55.546875 -11.824341483849047\n"
     ]
    }
   ],
   "source": [
    "feature =data['features'][0]\n",
    "cor=feature['geometry']['coordinates']     \n",
    "aoi = ee.Geometry.Polygon([cor[0][0][0:2], cor[0][1][0:2], cor[0][2][0:2], cor[0][3][0:2],cor[0][4][0:2]], None, False)\n",
    "\n",
    "print(feature['properties']['title'])\n",
    "\n",
    "print(cor[0][0][0], cor[0][0][1])\n"
   ]
  },
  {
   "cell_type": "code",
   "execution_count": 28,
   "metadata": {},
   "outputs": [],
   "source": [
    "# Display the polygons by adding them to the map.\n",
    "Map.centerObject(aoi,10)\n",
    "Map.addLayer(aoi, {'color': 'FF0000'})"
   ]
  },
  {
   "cell_type": "markdown",
   "metadata": {},
   "source": [
    "# download monthly s2 data for one aoi "
   ]
  },
  {
   "cell_type": "code",
   "execution_count": 26,
   "metadata": {},
   "outputs": [],
   "source": [
    "timePeriod = ee.DateRange('2018-01-01', '2018-02-01')\n",
    "s2_bands = ['B2', 'B3', 'B4', 'B5', 'B6', 'B7', 'B8', 'B8A', 'B11', 'B12']\n",
    "#['Blue', 'Green', 'Red', 'Red Edge 1', 'Red Edge 2', 'Red Edge 3', 'NIR', 'Red Edge 4', 'SWIR1', 'SWIR2', 'QA60']\n",
    "\n",
    "import os\n",
    "saveFolder= r\".\\files\\res\"\n",
    "filename = os.path.join(saveFolder, feature['properties']['title']+'_201801'+'.tif')"
   ]
  },
  {
   "cell_type": "code",
   "execution_count": 14,
   "metadata": {},
   "outputs": [],
   "source": [
    "def get_utm_epsg(lon, lat):\n",
    "\t#coords = feature.geometry().coordinates()\n",
    "\tlon = ee.Number(lon)\n",
    "\tlat = ee.Number(lat)\n",
    "\tepsg = ee.Number(32700).subtract(lat.add(45).divide(90).round().multiply(100)).add(lon.add(183).divide(6).round()).uint16()\n",
    "\t#print(epsg.getInfo())\n",
    "\treturn ee.String(\"EPSG:\").cat(ee.String(str(epsg.getInfo())))#ee.String(\"EPSG:\").cat"
   ]
  },
  {
   "cell_type": "code",
   "execution_count": 17,
   "metadata": {},
   "outputs": [],
   "source": [
    "#ee.ImageCollection(\"COPERNICUS/S2_SR\")\n",
    "#https://developers.google.com/earth-engine/datasets/catalog/COPERNICUS_S2_SR\n",
    "               \n",
    "def get_s1_mosaic(city):\n",
    "    #input is a gee feature\n",
    "    \n",
    "    roi = city.geometry()\n",
    "\n",
    "    def clip_roi(img):\n",
    "        return img.clip(roi).unmask()\n",
    "\n",
    "    collection = ee.ImageCollection('COPERNICUS/S1_GRD') \\\n",
    "    .filterDate(timePeriod).filterBounds(roi).filter(ee.Filter.listContains('transmitterReceiverPolarisation', 'VV')) \\\n",
    "    .filter(ee.Filter.listContains('transmitterReceiverPolarisation', 'VH')) \\\n",
    "    .filter(ee.Filter.eq('instrumentMode', 'IW')) \\\n",
    "    .select(s1_bands) \\\n",
    "    .map(clip_roi) \\\n",
    "    .median()\n",
    "    return collection\n",
    "def getS2(aoi, timePeriod):\n",
    "\t# Define function to mask out clouds and cloud shadows in images.\n",
    "\t# Use CFmask band included in USGS Landsat SR image product.\n",
    "\tdef fmask(img):\n",
    "\t\tcloudOpaqueBitMask = 1 << 10\n",
    "\t\tcloudCirrusBitMask = 1 << 11\n",
    "\t\tqa = img.select('QA60')\n",
    "\t\tmask = qa.bitwiseAnd(cloudOpaqueBitMask).eq(0) \\\n",
    "            .And(qa.bitwiseAnd(cloudCirrusBitMask).eq(0))\n",
    "\t\treturn(img.updateMask(mask))\n",
    "               \n",
    "\timage = ee.ImageCollection('COPERNICUS/S2_SR') \\\n",
    "\t.filterDate(timePeriod).select(s2_bands) \\\n",
    "\t.filterBounds(aoi).map(fmask).median()\n",
    "\n",
    "\treturn image.clip(aoi)\n"
   ]
  },
  {
   "cell_type": "code",
   "execution_count": 27,
   "metadata": {},
   "outputs": [],
   "source": [
    "#s2 = getS2(aoi, timePeriod)\n",
    "s2 = ee.ImageCollection('COPERNICUS/S2') \\\n",
    "\t.filterDate(timePeriod).select(s2_bands) \\\n",
    "\t.filterBounds(aoi).median().clip(aoi)\n",
    "\n",
    "#print(s2.getInfo())\n",
    "\n",
    "'for debug'\n",
    "#print(s2.getInfo())\n",
    "Map.addLayer(s2, {'bands': ['B4', 'B3', 'B2'], 'min': 0, 'max': 4000}, \"S2\")"
   ]
  },
  {
   "cell_type": "code",
   "execution_count": 19,
   "metadata": {},
   "outputs": [
    {
     "name": "stdout",
     "output_type": "stream",
     "text": [
      "EPSG:32721\n"
     ]
    }
   ],
   "source": [
    "epsg=get_utm_epsg(cor[0][0][0], cor[0][0][1])\n",
    "print(epsg.getInfo())"
   ]
  },
  {
   "cell_type": "code",
   "execution_count": 24,
   "metadata": {},
   "outputs": [
    {
     "name": "stdout",
     "output_type": "stream",
     "text": [
      ".\\files\\res\\2832_4366_13_201801.zip\n"
     ]
    }
   ],
   "source": [
    "print(filename[:-4]+\".zip\")"
   ]
  },
  {
   "cell_type": "code",
   "execution_count": 25,
   "metadata": {},
   "outputs": [
    {
     "name": "stdout",
     "output_type": "stream",
     "text": [
      "Generating URL ...\n",
      "Downloading data from https://earthengine.googleapis.com/v1alpha/projects/earthengine-legacy/thumbnails/2b2f37cb7901525d28b5baa3f6cb539d-8f85a2391f276c26a78f9f37354bf964:getPixels\n",
      "Please wait ...\n",
      "[WinError 32] The process cannot access the file because it is being used by another process: 'E:\\\\0Learn\\\\0LearningNotes_python_geo_rs\\\\files\\\\res\\\\2832_4366_13_201801.zip'\n"
     ]
    }
   ],
   "source": [
    "geemap.ee_export_image(s2, filename=filename, scale=10, region=aoi, crs=ee.Projection(epsg), file_per_band=False)\n",
    "os.remove(filename[:-4]+\".zip\")"
   ]
  },
  {
   "cell_type": "markdown",
   "metadata": {},
   "source": [
    "# monthly"
   ]
  },
  {
   "cell_type": "code",
   "execution_count": 32,
   "metadata": {},
   "outputs": [
    {
     "name": "stdout",
     "output_type": "stream",
     "text": [
      "Generating URL ...\n",
      "Downloading data from https://earthengine.googleapis.com/v1alpha/projects/earthengine-legacy/thumbnails/df9bc44de1ee02cd67bc65c37f04cb86-0113f0234da08d07d11bb39668f1e5d1:getPixels\n",
      "Please wait ...\n",
      "[WinError 32] The process cannot access the file because it is being used by another process: 'E:\\\\0Learn\\\\0LearningNotes_python_geo_rs\\\\files\\\\res\\\\2832_4366_13_2018_11.zip'\n"
     ]
    }
   ],
   "source": [
    "#for year in [2018,2019]:\n",
    "\n",
    "year=2018\n",
    "\n",
    "for m in range(11,12):\n",
    "    \n",
    "    start_date = ee.Date.fromYMD(year, m, 1)\n",
    "    end_date = ee.Date.fromYMD(year, m+1, 1)\n",
    "    \n",
    "    s2 = ee.ImageCollection('COPERNICUS/S2') \\\n",
    "\t.filterDate(start_date, end_date).select(s2_bands) \\\n",
    "\t.filterBounds(aoi).median().clip(aoi)\n",
    "    \n",
    "    filename = os.path.join(saveFolder, feature['properties']['title']+'_'+str(year)+'_'+str(m)+'.tif')\n",
    "    \n",
    "    geemap.ee_export_image(s2, filename=filename, scale=10, region=aoi, crs=ee.Projection(epsg), file_per_band=False)\n",
    "    \n",
    "    os.remove(filename[:-4]+\".zip\")"
   ]
  },
  {
   "cell_type": "code",
   "execution_count": 33,
   "metadata": {},
   "outputs": [
    {
     "name": "stdout",
     "output_type": "stream",
     "text": [
      "Generating URL ...\n",
      "Downloading data from https://earthengine.googleapis.com/v1alpha/projects/earthengine-legacy/thumbnails/4a0e81550f732618b1982c2a32337cb8-294a108e4e401dd9d2459bda2bdd15f3:getPixels\n",
      "Please wait ...\n",
      "[WinError 32] The process cannot access the file because it is being used by another process: 'E:\\\\0Learn\\\\0LearningNotes_python_geo_rs\\\\files\\\\res\\\\2832_4366_13_2018_12.zip'\n"
     ]
    }
   ],
   "source": [
    "start_date = ee.Date.fromYMD(year, 12, 1)\n",
    "end_date = ee.Date.fromYMD(year+1, 1, 1)\n",
    "    \n",
    "s2 = ee.ImageCollection('COPERNICUS/S2') \\\n",
    ".filterDate(start_date, end_date).select(s2_bands) \\\n",
    ".filterBounds(aoi).median().clip(aoi)\n",
    "    \n",
    "filename = os.path.join(saveFolder, feature['properties']['title']+'_'+str(year)+'_'+str(12)+'.tif')\n",
    "    \n",
    "geemap.ee_export_image(s2, filename=filename, scale=10, region=aoi, crs=ee.Projection(epsg), file_per_band=False)\n",
    "    \n",
    "os.remove(filename[:-4]+\".zip\")    "
   ]
  },
  {
   "cell_type": "code",
   "execution_count": 34,
   "metadata": {},
   "outputs": [
    {
     "name": "stdout",
     "output_type": "stream",
     "text": [
      "Generating URL ...\n",
      "Downloading data from https://earthengine.googleapis.com/v1alpha/projects/earthengine-legacy/thumbnails/91c8a40be5cad44ab7cd42facc2f2f92-1499a3ef940200d8d6e1ab43e221723d:getPixels\n",
      "Please wait ...\n",
      "[WinError 32] The process cannot access the file because it is being used by another process: 'E:\\\\0Learn\\\\0LearningNotes_python_geo_rs\\\\files\\\\res\\\\2832_4366_13_2019_1.zip'\n",
      "Generating URL ...\n",
      "Downloading data from https://earthengine.googleapis.com/v1alpha/projects/earthengine-legacy/thumbnails/532ff1b54db569858299a3f31bd7f0c1-a090d63807473d325b1ff7bebdf085bd:getPixels\n",
      "Please wait ...\n",
      "[WinError 32] The process cannot access the file because it is being used by another process: 'E:\\\\0Learn\\\\0LearningNotes_python_geo_rs\\\\files\\\\res\\\\2832_4366_13_2019_2.zip'\n",
      "Generating URL ...\n",
      "Downloading data from https://earthengine.googleapis.com/v1alpha/projects/earthengine-legacy/thumbnails/cfd57c27021be6eace04aa0f1bf7ff7e-cab5e8d446b8d2707e2ebc630d92333c:getPixels\n",
      "Please wait ...\n",
      "[WinError 32] The process cannot access the file because it is being used by another process: 'E:\\\\0Learn\\\\0LearningNotes_python_geo_rs\\\\files\\\\res\\\\2832_4366_13_2019_3.zip'\n",
      "Generating URL ...\n",
      "Downloading data from https://earthengine.googleapis.com/v1alpha/projects/earthengine-legacy/thumbnails/e10b96058b15427e12d643d033c8c282-d73e6da1ab03f0d135278749df8d0f53:getPixels\n",
      "Please wait ...\n",
      "[WinError 32] The process cannot access the file because it is being used by another process: 'E:\\\\0Learn\\\\0LearningNotes_python_geo_rs\\\\files\\\\res\\\\2832_4366_13_2019_4.zip'\n",
      "Generating URL ...\n",
      "Downloading data from https://earthengine.googleapis.com/v1alpha/projects/earthengine-legacy/thumbnails/cb41d6ca954bad290e8eee9369b65fb0-72e4891ca38221812bf3be30589274c6:getPixels\n",
      "Please wait ...\n",
      "[WinError 32] The process cannot access the file because it is being used by another process: 'E:\\\\0Learn\\\\0LearningNotes_python_geo_rs\\\\files\\\\res\\\\2832_4366_13_2019_5.zip'\n",
      "Generating URL ...\n",
      "Downloading data from https://earthengine.googleapis.com/v1alpha/projects/earthengine-legacy/thumbnails/4e1f586db9380c36a09f74684d1b9940-24325a059b81b8d1a92b836a2ab51be8:getPixels\n",
      "Please wait ...\n",
      "[WinError 32] The process cannot access the file because it is being used by another process: 'E:\\\\0Learn\\\\0LearningNotes_python_geo_rs\\\\files\\\\res\\\\2832_4366_13_2019_6.zip'\n",
      "Generating URL ...\n",
      "Downloading data from https://earthengine.googleapis.com/v1alpha/projects/earthengine-legacy/thumbnails/131f96b3c191a0d78fe378845149c5c5-2f5567a46880ba214167ce7591cb99f6:getPixels\n",
      "Please wait ...\n",
      "[WinError 32] The process cannot access the file because it is being used by another process: 'E:\\\\0Learn\\\\0LearningNotes_python_geo_rs\\\\files\\\\res\\\\2832_4366_13_2019_7.zip'\n",
      "Generating URL ...\n",
      "Downloading data from https://earthengine.googleapis.com/v1alpha/projects/earthengine-legacy/thumbnails/e4521f5dd20a9700775e8771010f2c90-e8f69a1f7c77926983eb13a1f5784ae2:getPixels\n",
      "Please wait ...\n",
      "[WinError 32] The process cannot access the file because it is being used by another process: 'E:\\\\0Learn\\\\0LearningNotes_python_geo_rs\\\\files\\\\res\\\\2832_4366_13_2019_8.zip'\n",
      "Generating URL ...\n",
      "Downloading data from https://earthengine.googleapis.com/v1alpha/projects/earthengine-legacy/thumbnails/6d9d660b66ca72f4e4934a198115f5a6-f60ebefdba9e98c8708952ac60d7d55b:getPixels\n",
      "Please wait ...\n",
      "[WinError 32] The process cannot access the file because it is being used by another process: 'E:\\\\0Learn\\\\0LearningNotes_python_geo_rs\\\\files\\\\res\\\\2832_4366_13_2019_9.zip'\n",
      "Generating URL ...\n",
      "Downloading data from https://earthengine.googleapis.com/v1alpha/projects/earthengine-legacy/thumbnails/98ec7e0dcfa6b84b583a266fde8f8c33-ea615cc7399a37a63bf7b45e98056310:getPixels\n",
      "Please wait ...\n",
      "[WinError 32] The process cannot access the file because it is being used by another process: 'E:\\\\0Learn\\\\0LearningNotes_python_geo_rs\\\\files\\\\res\\\\2832_4366_13_2019_10.zip'\n",
      "Generating URL ...\n",
      "Downloading data from https://earthengine.googleapis.com/v1alpha/projects/earthengine-legacy/thumbnails/0b9b18ebe57dbe3b7e954f3b34870616-6597aa06b354a43fb51686a0b31dc04f:getPixels\n",
      "Please wait ...\n",
      "[WinError 32] The process cannot access the file because it is being used by another process: 'E:\\\\0Learn\\\\0LearningNotes_python_geo_rs\\\\files\\\\res\\\\2832_4366_13_2019_11.zip'\n",
      "Generating URL ...\n",
      "Downloading data from https://earthengine.googleapis.com/v1alpha/projects/earthengine-legacy/thumbnails/6a659f6eed7a532b35f29a6a99d29f18-459ff84d7d0e86738efa3cd579013298:getPixels\n",
      "Please wait ...\n",
      "[WinError 32] The process cannot access the file because it is being used by another process: 'E:\\\\0Learn\\\\0LearningNotes_python_geo_rs\\\\files\\\\res\\\\2832_4366_13_2019_12.zip'\n"
     ]
    }
   ],
   "source": []
  },
  {
   "cell_type": "code",
   "execution_count": null,
   "metadata": {},
   "outputs": [],
   "source": []
  }
 ],
 "metadata": {
  "kernelspec": {
   "display_name": "Python [conda env:geePy3]",
   "language": "python",
   "name": "conda-env-geePy3-py"
  },
  "language_info": {
   "codemirror_mode": {
    "name": "ipython",
    "version": 3
   },
   "file_extension": ".py",
   "mimetype": "text/x-python",
   "name": "python",
   "nbconvert_exporter": "python",
   "pygments_lexer": "ipython3",
   "version": "3.8.3"
  }
 },
 "nbformat": 4,
 "nbformat_minor": 2
}
