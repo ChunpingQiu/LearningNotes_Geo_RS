{
 "cells": [
  {
   "cell_type": "markdown",
   "metadata": {},
   "source": [
    "# setup\n",
    "\n",
    "- downlaod https://github.com/zaytoun/scihub.py\n",
    "- install: pip install -r requirements.txt\n",
    "\n",
    "- install: pip install pybtex https://pybtex.org/"
   ]
  },
  {
   "cell_type": "code",
   "execution_count": 1,
   "metadata": {},
   "outputs": [],
   "source": [
    "import sys \n",
    "sys.path.insert (0, \"./util/\")\n",
    "#setup the path to the downloaded scihub files"
   ]
  },
  {
   "cell_type": "code",
   "execution_count": 2,
   "metadata": {},
   "outputs": [],
   "source": [
    "from pybtex.database import parse_file\n",
    "from scihub import SciHub"
   ]
  },
  {
   "cell_type": "code",
   "execution_count": 3,
   "metadata": {},
   "outputs": [],
   "source": [
    "sh = SciHub()\n",
    "\n",
    "# exactly the same thing as fetch except downloads the articles to disk\n",
    "# if no path given, a unique name will be used as the file name\n",
    "# result = sh.download('10.1016/j.rse.2020.112012', path='paper.pdf')"
   ]
  },
  {
   "cell_type": "code",
   "execution_count": 4,
   "metadata": {},
   "outputs": [
    {
     "name": "stdout",
     "output_type": "stream",
     "text": [
      "10.1016/j.isprsjprs.2020.11.003\n",
      "10.1016/j.isprsjprs.2020.10.015\n",
      "10.1016/j.isprsjprs.2020.10.008\n",
      "10.1016/j.isprsjprs.2020.10.010\n",
      "10.1016/j.isprsjprs.2020.09.019\n",
      "10.1016/j.isprsjprs.2020.09.018\n",
      "10.1016/j.isprsjprs.2020.06.006\n",
      "10.1016/j.isprsjprs.2020.08.026\n",
      "10.1016/j.isprsjprs.2020.09.020\n",
      "10.1016/j.isprsjprs.2020.09.011\n",
      "10.1016/j.isprsjprs.2020.09.025\n",
      "10.1016/j.isprsjprs.2020.09.015\n",
      "10.1016/j.isprsjprs.2020.10.002\n",
      "10.1016/j.isprsjprs.2020.09.012\n",
      "10.1016/j.isprsjprs.2020.09.003\n",
      "10.1016/j.isprsjprs.2020.09.024\n",
      "10.1016/j.isprsjprs.2020.08.025\n",
      "10.1016/j.isprsjprs.2020.08.004\n",
      "10.1016/j.isprsjprs.2020.06.018\n",
      "10.1016/j.isprsjprs.2020.08.005\n",
      "10.1016/j.isprsjprs.2020.08.001\n",
      "10.1016/j.isprsjprs.2020.08.019\n",
      "10.1016/j.isprsjprs.2020.08.010\n",
      "10.1016/j.isprsjprs.2020.07.011\n",
      "10.1016/j.isprsjprs.2020.07.005\n",
      "10.1016/j.isprsjprs.2020.07.016\n",
      "10.1016/j.isprsjprs.2020.07.007\n",
      "10.1016/j.isprsjprs.2020.06.012\n",
      "10.1016/j.isprsjprs.2020.07.003\n",
      "10.1016/j.isprsjprs.2020.05.016\n",
      "10.1016/j.isprsjprs.2020.06.014\n",
      "10.1016/j.isprsjprs.2020.07.002\n",
      "10.1016/j.isprsjprs.2020.07.001\n",
      "10.1016/j.isprsjprs.2020.06.005\n",
      "10.1016/j.isprsjprs.2020.06.021\n",
      "10.1016/j.isprsjprs.2020.03.005\n",
      "10.1016/j.isprsjprs.2020.05.023\n",
      "10.1016/j.isprsjprs.2020.05.022\n",
      "10.1016/j.isprsjprs.2020.06.004\n",
      "10.1016/j.isprsjprs.2020.06.010\n",
      "10.1016/j.isprsjprs.2020.04.019\n",
      "10.1016/j.isprsjprs.2020.05.010\n",
      "10.1016/j.isprsjprs.2020.05.007\n",
      "10.1016/j.isprsjprs.2020.06.003\n",
      "10.1016/j.isprsjprs.2020.05.013\n",
      "10.1016/j.isprsjprs.2020.06.008\n",
      "10.1016/j.isprsjprs.2020.04.013\n",
      "10.1016/j.isprsjprs.2020.05.009\n",
      "10.1016/j.isprsjprs.2020.05.008\n",
      "10.1016/j.isprsjprs.2020.04.002\n",
      "10.1016/j.isprsjprs.2020.04.008\n",
      "10.1016/j.isprsjprs.2020.04.010\n",
      "10.1016/j.isprsjprs.2020.04.003\n",
      "10.1016/j.isprsjprs.2020.03.016\n",
      "10.1016/j.isprsjprs.2020.02.014\n",
      "10.1016/j.isprsjprs.2020.01.028\n",
      "10.1016/j.isprsjprs.2020.03.001\n",
      "10.1016/j.isprsjprs.2020.03.006\n",
      "10.1016/j.isprsjprs.2020.02.020\n",
      "10.1016/j.isprsjprs.2020.02.004\n",
      "10.1016/j.isprsjprs.2020.01.013\n",
      "10.1016/j.isprsjprs.2020.02.008\n",
      "10.1016/j.isprsjprs.2020.02.001\n",
      "10.1016/j.isprsjprs.2020.02.002\n",
      "10.1016/j.isprsjprs.2020.01.003\n",
      "10.1016/j.isprsjprs.2020.01.016\n",
      "10.1016/j.isprsjprs.2020.01.006\n",
      "10.1016/j.isprsjprs.2020.01.025\n",
      "10.1016/j.isprsjprs.2020.01.023\n",
      "10.1016/j.isprsjprs.2020.01.017\n",
      "10.1016/j.isprsjprs.2019.12.010\n",
      "10.1016/j.isprsjprs.2019.11.024\n",
      "10.1016/j.isprsjprs.2019.12.001\n",
      "10.1016/j.isprsjprs.2019.12.014\n",
      "10.1016/j.isprsjprs.2019.12.002\n",
      "10.1016/j.isprsjprs.2019.11.004\n",
      "10.1016/j.isprsjprs.2019.10.015\n",
      "10.1016/j.isprsjprs.2019.11.023\n",
      "10.1016/j.isprsjprs.2019.11.006\n",
      "10.1016/j.isprsjprs.2019.11.005\n"
     ]
    }
   ],
   "source": [
    "bib_data = parse_file('./files/rse_scopus_38.bib')\n",
    "# the bib files containing the information of the papers to be downloaded\n",
    "\n",
    "for entry in bib_data.entries.keys():\n",
    "#     print(bib_data.entries[entry].fields['doi'])\n",
    "    doi = bib_data.entries[entry].fields['doi']\n",
    "    print(doi)\n",
    "    \n",
    "    result = sh.download(doi, path = entry +'.pdf')\n",
    "    #save the articles with the latex key\n"
   ]
  },
  {
   "cell_type": "markdown",
   "metadata": {},
   "source": [
    "# Ref"
   ]
  },
  {
   "cell_type": "markdown",
   "metadata": {},
   "source": [
    "https://github.com/zaytoun/scihub.py"
   ]
  }
 ],
 "metadata": {
  "kernelspec": {
   "display_name": "Python 3",
   "language": "python",
   "name": "python3"
  },
  "language_info": {
   "codemirror_mode": {
    "name": "ipython",
    "version": 3
   },
   "file_extension": ".py",
   "mimetype": "text/x-python",
   "name": "python",
   "nbconvert_exporter": "python",
   "pygments_lexer": "ipython3",
   "version": "3.8.3"
  }
 },
 "nbformat": 4,
 "nbformat_minor": 4
}
